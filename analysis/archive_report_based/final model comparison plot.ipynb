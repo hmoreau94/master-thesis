{
 "cells": [
  {
   "cell_type": "markdown",
   "metadata": {
    "toc": true
   },
   "source": [
    "<h1>Table of Contents<span class=\"tocSkip\"></span></h1>\n",
    "<div class=\"toc\"><ul class=\"toc-item\"></ul></div>"
   ]
  },
  {
   "cell_type": "code",
   "execution_count": 44,
   "metadata": {},
   "outputs": [
    {
     "name": "stdout",
     "output_type": "stream",
     "text": [
      "The autoreload extension is already loaded. To reload it, use:\n",
      "  %reload_ext autoreload\n"
     ]
    }
   ],
   "source": [
    "# Some important imports\n",
    "%matplotlib inline\n",
    "%load_ext autoreload\n",
    "%autoreload 2\n",
    "\n",
    "import numpy as np\n",
    "import pandas as pd\n",
    "pd.options.mode.chained_assignment = None\n",
    "import matplotlib.pyplot as plt\n",
    "import seaborn as sns\n",
    "import itertools\n",
    "import pickle\n",
    "from mpl_toolkits.mplot3d import Axes3D\n",
    "sns.set_context('notebook')\n",
    "\n",
    "# Sklearn imports\n",
    "import sklearn\n",
    "from sklearn import calibration\n",
    "from sklearn.ensemble import RandomForestClassifier\n",
    "from sklearn.pipeline import make_pipeline\n",
    "from sklearn.decomposition import PCA\n",
    "from sklearn.discriminant_analysis import LinearDiscriminantAnalysis\n",
    "from sklearn.model_selection import train_test_split\n",
    "\n",
    "# Some imports that may require package installation\n",
    "try:\n",
    "    import missingno as msno\n",
    "except ModuleNotFoundError:\n",
    "    print('You need to run: pip install missingno')\n",
    "\n",
    "# Own Scripts import\n",
    "from scripts.energy_test_DP import *\n",
    "from scripts.utils import *\n",
    "from scripts.preprocessing import *\n",
    "from scripts.plot import *\n",
    "from scripts.model_selection import *\n",
    "\n",
    "# get rid of warning due to deprecated modules in sklearn\n",
    "import warnings\n",
    "warnings.simplefilter('ignore')\n",
    "\n",
    "# Constants\n",
    "DATA_FOLDER = './Data'"
   ]
  },
  {
   "cell_type": "code",
   "execution_count": 45,
   "metadata": {
    "scrolled": false
   },
   "outputs": [
    {
     "name": "stdout",
     "output_type": "stream",
     "text": [
      "Retrieving from ./Data/sample_27_06_sick_only.pk\n",
      "The sample is composed of : 24173 vectors of dimension 291\n",
      "\tn_sick\t\t=   7110\n",
      "\tn_healthy\t=  17063\n",
      "Deleting 54 features (18.305%).\n"
     ]
    }
   ],
   "source": [
    "x,y,dates = usable_data('27_06',DATA_FOLDER)"
   ]
  },
  {
   "cell_type": "code",
   "execution_count": 53,
   "metadata": {
    "collapsed": true
   },
   "outputs": [],
   "source": [
    "standard_preproc = make_pipeline(\n",
    "    sklearn.preprocessing.Imputer(strategy='mean'),\n",
    "    sklearn.preprocessing.StandardScaler())\n",
    "simple_preproc = make_pipeline(\n",
    "    sklearn.preprocessing.Imputer(strategy='mean'))\n",
    "\n",
    "classifiers = {'Logistic Regression':make_pipeline(\n",
    "                                        standard_preproc,\n",
    "                                        sklearn.linear_model.LogisticRegression(C=0.011288, max_iter=500,n_jobs=-1)),\n",
    "               'GB (scaled)': make_pipeline(standard_preproc,\n",
    "                                sklearn.ensemble.GradientBoostingClassifier(\n",
    "                                **{'learning_rate': 0.1125, \n",
    "                                 'n_estimators': 64, \n",
    "                                 'max_depth': 5, \n",
    "                                 'min_samples_split':1000})),\n",
    "               'GB': make_pipeline(simple_preproc,\n",
    "                                sklearn.ensemble.GradientBoostingClassifier(\n",
    "                                **{'learning_rate': 0.050000000000000003, \n",
    "                                 'n_estimators': 100, \n",
    "                                 'max_depth': 7, \n",
    "                                 'min_samples_split':1000}))\n",
    "              }\n",
    "\n",
    "\n"
   ]
  },
  {
   "cell_type": "code",
   "execution_count": 54,
   "metadata": {
    "collapsed": true
   },
   "outputs": [],
   "source": [
    "def PR_multiple_models(classifiers, x, y, dates,prec_thresh_list=[0.7,0.8,0.9],cv=5, balanced = True, shuffle = True):\n",
    "\n",
    "    fig,ax = plt.subplots(1,1)\n",
    "    splits = scripts.model_selection.distinct_date_split(x,y,dates,cv,balanced,shuffle)\n",
    "    recall_levels = {x:np.zeros((cv,len(prec_thresh_list))) for x in classifiers}\n",
    "    \n",
    "    y_real = []\n",
    "    #create a dict to store each classifiers' results\n",
    "    all_scores = {x:[] for x in classifiers}\n",
    "    \n",
    "    for i,(train_index,test_index) in enumerate(splits):\n",
    "        x_train, x_test,y_train, y_test = x[train_index], x[test_index], y[train_index], y[test_index]\n",
    "        \n",
    "        for clf_name in classifiers.keys():\n",
    "            clf = classifiers[clf_name]\n",
    "            clf.fit(x_train,y_train)\n",
    "            y_proba_sick = clf.predict_proba(x_test)[:,1]\n",
    "            \n",
    "            all_scores[clf_name].append(y_proba_sick)\n",
    "            recalls_for_i,thresholds_for_i = scripts.model_selection.recalls_for_prec_list(y_test,y_proba_sick,prec_thresh_list)\n",
    "            recall_levels[clf_name][i,:] = recalls_for_i\n",
    "        \n",
    "        #store real labels\n",
    "        y_real.append(y_test)\n",
    "        \n",
    "    # create the return string\n",
    "    to_return = {}\n",
    "    \n",
    "    y_real = np.concatenate(y_real)\n",
    "    for clf_name in classifiers.keys():\n",
    "        # draw the overall curve\n",
    "        y_scores = np.concatenate(all_scores[clf_name])\n",
    "        precision, recall, _ = sklearn.metrics.precision_recall_curve(y_real, y_scores)\n",
    "\n",
    "        overall_auc = sklearn.metrics.auc(recall,precision)\n",
    "        lab = clf_name + ' ({:.4f})'.format(overall_auc)\n",
    "        ax.step(recall, precision, label=lab,where='post',alpha=0.8)\n",
    "        \n",
    "        recalls = 100*np.mean(recall_levels[clf_name],axis=0)\n",
    "        to_return[clf_name] = {'R_{:.2f}'.format(prec_thresh_list[i]):recalls[i] for i in range(0,len(prec_thresh_list))}\n",
    "\n",
    "    ax.set_xlabel('Recall')\n",
    "    ax.set_ylabel('Precision')\n",
    "    ax.set_ylim([0.0, 1.05])\n",
    "    ax.set_xlim([0.0, 1.0])\n",
    "    ax.legend(loc='upper right', fontsize='small')\n",
    "\n",
    "\n",
    "    fig.show()\n",
    "\n",
    "    return to_return "
   ]
  },
  {
   "cell_type": "code",
   "execution_count": 55,
   "metadata": {},
   "outputs": [
    {
     "data": {
      "text/plain": [
       "{'GB': {'R_0.70': 33.323899444630499,\n",
       "  'R_0.80': 26.239356997603409,\n",
       "  'R_0.90': 12.89782408405347},\n",
       " 'GB (scaled)': {'R_0.70': 32.985133763671371,\n",
       "  'R_0.80': 25.691948991784308,\n",
       "  'R_0.90': 13.411689798758319},\n",
       " 'Logistic Regression': {'R_0.70': 24.802814196818918,\n",
       "  'R_0.80': 15.6742145556625,\n",
       "  'R_0.90': 4.7516172648697852}}"
      ]
     },
     "execution_count": 55,
     "metadata": {},
     "output_type": "execute_result"
    },
    {
     "data": {
      "image/png": "[encoded data removed]",
      "text/plain": [
       "<matplotlib.figure.Figure at 0x112b2dfd0>"
      ]
     },
     "metadata": {},
     "output_type": "display_data"
    }
   ],
   "source": [
    "PR_multiple_models(classifiers, x, y,dates)"
   ]
  },
  {
   "cell_type": "code",
   "execution_count": null,
   "metadata": {
    "collapsed": true
   },
   "outputs": [],
   "source": []
  }
 ],
 "metadata": {
  "kernelspec": {
   "display_name": "Python 3",
   "language": "python",
   "name": "python3"
  },
  "language_info": {
   "codemirror_mode": {
    "name": "ipython",
    "version": 3
   },
   "file_extension": ".py",
   "mimetype": "text/x-python",
   "name": "python",
   "nbconvert_exporter": "python",
   "pygments_lexer": "ipython3",
   "version": "3.6.3"
  },
  "toc": {
   "base_numbering": 1,
   "nav_menu": {},
   "number_sections": true,
   "sideBar": true,
   "skip_h1_title": false,
   "title_cell": "Table of Contents",
   "title_sidebar": "Contents",
   "toc_cell": true,
   "toc_position": {
    "height": "calc(100% - 180px)",
    "left": "10px",
    "top": "150px",
    "width": "165px"
   },
   "toc_section_display": true,
   "toc_window_display": true
  }
 },
 "nbformat": 4,
 "nbformat_minor": 2
}
