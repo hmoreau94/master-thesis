{
 "cells": [
  {
   "cell_type": "markdown",
   "metadata": {
    "toc": true
   },
   "source": [
    "<h1>Table of Contents<span class=\"tocSkip\"></span></h1>\n",
    "<div class=\"toc\"><ul class=\"toc-item\"></ul></div>"
   ]
  },
  {
   "cell_type": "code",
   "execution_count": 3,
   "metadata": {},
   "outputs": [
    {
     "name": "stdout",
     "output_type": "stream",
     "text": [
      "The autoreload extension is already loaded. To reload it, use:\n",
      "  %reload_ext autoreload\n"
     ]
    }
   ],
   "source": [
    "# Some important imports\n",
    "%matplotlib inline\n",
    "%load_ext autoreload\n",
    "%autoreload 2\n",
    "\n",
    "import numpy as np\n",
    "import pandas as pd\n",
    "pd.options.mode.chained_assignment = None\n",
    "import matplotlib.pyplot as plt\n",
    "import seaborn as sns\n",
    "import itertools\n",
    "import pickle\n",
    "from mpl_toolkits.mplot3d import Axes3D\n",
    "sns.set_context('notebook')\n",
    "\n",
    "# Sklearn imports\n",
    "import sklearn\n",
    "from sklearn import calibration\n",
    "from sklearn.ensemble import RandomForestClassifier\n",
    "from sklearn.pipeline import make_pipeline\n",
    "from sklearn.decomposition import PCA\n",
    "from sklearn.discriminant_analysis import LinearDiscriminantAnalysis\n",
    "from sklearn.model_selection import train_test_split\n",
    "\n",
    "# Some imports that may require package installation\n",
    "try:\n",
    "    import missingno as msno\n",
    "except ModuleNotFoundError:\n",
    "    print('You need to run: pip install missingno')\n",
    "\n",
    "# Own Scripts import\n",
    "from scripts.energy_test_DP import *\n",
    "from scripts.utils import *\n",
    "from scripts.preprocessing import *\n",
    "from scripts.plot import *\n",
    "from scripts.model_selection import *\n",
    "\n",
    "# get rid of warning due to deprecated modules in sklearn\n",
    "import warnings\n",
    "warnings.simplefilter('ignore')\n",
    "\n",
    "# Constants\n",
    "DATA_FOLDER = './Data'"
   ]
  },
  {
   "cell_type": "code",
   "execution_count": 5,
   "metadata": {},
   "outputs": [
    {
     "name": "stdout",
     "output_type": "stream",
     "text": [
      "Reading ./Data/sample_27_06.xlsx\n",
      "Performing some transformation\n",
      "Saving to ./Data/sample_27_06_sick_only.pk\n",
      "The sample is composed of : 24173 vectors of dimension 291\n",
      "\tn_sick\t\t=   7110\n",
      "\tn_healthy\t=  17063\n",
      "Deleting 54 features (18.305%).\n"
     ]
    }
   ],
   "source": [
    "x,y,dates = usable_data('27_06',DATA_FOLDER)"
   ]
  },
  {
   "cell_type": "code",
   "execution_count": 6,
   "metadata": {
    "collapsed": true
   },
   "outputs": [],
   "source": [
    "simple_preproc = make_pipeline(\n",
    "    sklearn.preprocessing.Imputer(strategy='mean'))\n",
    "\n",
    "standard_preproc = make_pipeline(\n",
    "    sklearn.preprocessing.Imputer(strategy='mean'),\n",
    "    sklearn.preprocessing.StandardScaler())\n",
    "\n",
    "PCA_preproc = make_pipeline(\n",
    "    sklearn.preprocessing.Imputer(strategy='mean'),\n",
    "    sklearn.preprocessing.StandardScaler(),\n",
    "    PCA(0.95))\n",
    "\n",
    "LDA_preproc = make_pipeline(sklearn.preprocessing.Imputer(\n",
    "    strategy='mean'), LinearDiscriminantAnalysis())\n",
    "\n",
    "preprocessing = {'simple_preproc':simple_preproc,\n",
    "                 'standard_preproc':standard_preproc,\n",
    "                 'PCA_preproc':PCA_preproc,\n",
    "                 'LDA_preproc':LDA_preproc}"
   ]
  },
  {
   "cell_type": "code",
   "execution_count": 7,
   "metadata": {
    "collapsed": true
   },
   "outputs": [],
   "source": [
    "preproc = simple_preproc"
   ]
  },
  {
   "cell_type": "code",
   "execution_count": null,
   "metadata": {},
   "outputs": [
    {
     "name": "stdout",
     "output_type": "stream",
     "text": [
      "[############################################----------------] 74.0% (37/50) Trying different combinations\r"
     ]
    }
   ],
   "source": [
    "learning_rates = np.linspace(0.05,0.3,5)\n",
    "n_estimators = [int(x) for x in np.linspace(20,100,10)]\n",
    "params = {'learning_rate': learning_rates, 'n_estimators':n_estimators}\n",
    "\n",
    "estimator = lambda kw_args: make_pipeline(simple_preproc,\n",
    "                                          sklearn.ensemble.GradientBoostingClassifier(**kw_args))\n",
    "\n",
    "res_init = custom_GridSearchCV(x,y,dates,estimator,params,cv=5)\n",
    "\n",
    "optimal_args = res_init['best']['best_args']\n",
    "opt_learning_rate = optimal_args['learning_rate']\n",
    "opt_n_est = optimal_args['n_estimators']\n",
    "\n",
    "params = {'learning_rate': [opt_learning_rate], 'n_estimators': [opt_n_est], \n",
    "             'max_depth':range(5,16,2), 'min_samples_split':range(200,1001,200)}\n",
    "\n",
    "res = custom_GridSearchCV(x,y,dates,estimator,params,cv=5)\n"
   ]
  },
  {
   "cell_type": "code",
   "execution_count": null,
   "metadata": {
    "collapsed": true
   },
   "outputs": [],
   "source": [
    "with open(DATA_FOLDER+'/tuned_simple_preproc.pickle', 'wb') as handle:\n",
    "    pickle.dump(res, handle, protocol=pickle.HIGHEST_PROTOCOL)"
   ]
  },
  {
   "cell_type": "code",
   "execution_count": null,
   "metadata": {
    "collapsed": true
   },
   "outputs": [],
   "source": [
    "preproc = standard_preproc\n",
    "learning_rates = np.linspace(0.05,0.3,5)\n",
    "n_estimators = [int(x) for x in np.linspace(20,100,10)]\n",
    "params = {'learning_rate': learning_rates, 'n_estimators':n_estimators}\n",
    "\n",
    "estimator = lambda kw_args: make_pipeline(simple_preproc,\n",
    "                                          sklearn.ensemble.GradientBoostingClassifier(**kw_args))\n",
    "\n",
    "res_init = custom_GridSearchCV(x,y,dates,estimator,params,cv=5)\n",
    "\n",
    "optimal_args = res_init['best']['best_args']\n",
    "opt_learning_rate = optimal_args['learning_rate']\n",
    "opt_n_est = optimal_args['n_estimators']\n",
    "\n",
    "params = {'learning_rate': [opt_learning_rate], 'n_estimators': [opt_n_est], \n",
    "             'max_depth':range(5,16,2), 'min_samples_split':range(200,1001,200)}\n",
    "\n",
    "res = custom_GridSearchCV(x,y,dates,estimator,params,cv=5)"
   ]
  },
  {
   "cell_type": "code",
   "execution_count": null,
   "metadata": {
    "collapsed": true
   },
   "outputs": [],
   "source": [
    "with open(DATA_FOLDER+'/tuned_standard_preproc.pickle', 'wb') as handle:\n",
    "    pickle.dump(res, handle, protocol=pickle.HIGHEST_PROTOCOL)"
   ]
  },
  {
   "cell_type": "code",
   "execution_count": null,
   "metadata": {
    "collapsed": true
   },
   "outputs": [],
   "source": []
  }
 ],
 "metadata": {
  "kernelspec": {
   "display_name": "Python 3",
   "language": "python",
   "name": "python3"
  },
  "language_info": {
   "codemirror_mode": {
    "name": "ipython",
    "version": 3
   },
   "file_extension": ".py",
   "mimetype": "text/x-python",
   "name": "python",
   "nbconvert_exporter": "python",
   "pygments_lexer": "ipython3",
   "version": "3.6.3"
  },
  "toc": {
   "base_numbering": 1,
   "nav_menu": {},
   "number_sections": true,
   "sideBar": true,
   "skip_h1_title": false,
   "title_cell": "Table of Contents",
   "title_sidebar": "Contents",
   "toc_cell": true,
   "toc_position": {},
   "toc_section_display": true,
   "toc_window_display": true
  }
 },
 "nbformat": 4,
 "nbformat_minor": 2
}
