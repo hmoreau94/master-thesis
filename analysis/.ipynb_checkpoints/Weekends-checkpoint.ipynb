{
 "cells": [
  {
   "cell_type": "code",
   "execution_count": 1,
   "metadata": {
    "collapsed": true
   },
   "outputs": [],
   "source": [
    "%matplotlib inline\n",
    "# To reload external scripts automatically\n",
    "%load_ext autoreload\n",
    "%autoreload 2\n",
    "import pandas as pd\n",
    "import numpy as np\n",
    "import matplotlib.pyplot as plt\n",
    "import seaborn as sns\n",
    "import glob\n",
    "import pickle\n",
    "import os\n",
    "from datetime import date\n",
    "sns.set_context('notebook')"
   ]
  },
  {
   "cell_type": "markdown",
   "metadata": {},
   "source": [
    "This notebook will explore the influence of week ends:\n",
    "* On the 24h vector of measurement we construct for each CPE\n",
    "* On the distribution of calls to the call center\n",
    "\n",
    "While the analysis will first be conducted on a limited amount of data (only available) for a limited number of days, it will be followed by an analysis with more data."
   ]
  },
  {
   "cell_type": "code",
   "execution_count": 2,
   "metadata": {
    "collapsed": true
   },
   "outputs": [],
   "source": [
    "DATA_FOLDER = './Data'\n",
    "DATA_PATH = DATA_FOLDER+'/initial_non_aggregated.xlsx'"
   ]
  },
  {
   "cell_type": "markdown",
   "metadata": {},
   "source": [
    "# Influence on Vectors\n",
    "## Limited analysis"
   ]
  },
  {
   "cell_type": "markdown",
   "metadata": {},
   "source": [
    "We perform an intial analysis, to determine how we can start collecting the data. We want to determine if the vectors should leave out the weekend days or if we can leave them in the dataset. So we have extracted 2 service groups over a week (```'ch-mbcALT301','ch-mbcARA301'```) "
   ]
  },
  {
   "cell_type": "code",
   "execution_count": 3,
   "metadata": {
    "collapsed": true
   },
   "outputs": [],
   "source": [
    "def excel_to_df(source_file_path, dump_file_path):\n",
    "    if(os.path.isfile(dump_file_path)):\n",
    "        print('Retrieving from '+dump_file_path)\n",
    "        df = pd.read_pickle(dump_file_path)\n",
    "        return df\n",
    "    else:\n",
    "        if(os.path.isfile(source_file_path)):\n",
    "            print('Retrieving from '+source_file_path)\n",
    "            df = pd.read_excel(source_file_path)\n",
    "            df.to_pickle(dump_file_path)\n",
    "            return df\n",
    "        else:\n",
    "            print('The source file cannot be found : '+source_file_path)"
   ]
  },
  {
   "cell_type": "code",
   "execution_count": 4,
   "metadata": {
    "scrolled": false
   },
   "outputs": [
    {
     "name": "stdout",
     "output_type": "stream",
     "text": [
      "Retrieving from ./Data/extracted.pk\n"
     ]
    },
    {
     "data": {
      "text/html": [
       "<div>\n",
       "<style>\n",
       "    .dataframe thead tr:only-child th {\n",
       "        text-align: right;\n",
       "    }\n",
       "\n",
       "    .dataframe thead th {\n",
       "        text-align: left;\n",
       "    }\n",
       "\n",
       "    .dataframe tbody tr th {\n",
       "        vertical-align: top;\n",
       "    }\n",
       "</style>\n",
       "<table border=\"1\" class=\"dataframe\">\n",
       "  <thead>\n",
       "    <tr style=\"text-align: right;\">\n",
       "      <th></th>\n",
       "      <th>MAC</th>\n",
       "      <th>ACCOUNT_NUMBER</th>\n",
       "      <th>CMTS</th>\n",
       "      <th>SERVICE_GROUP</th>\n",
       "      <th>FIRST_DAY</th>\n",
       "      <th>LAST_DAY</th>\n",
       "      <th>DAY_TYPE</th>\n",
       "      <th>OFFLINE_PCT_6H</th>\n",
       "      <th>OFFLINE_PCT_12H</th>\n",
       "      <th>OFFLINE_PCT_18H</th>\n",
       "      <th>...</th>\n",
       "      <th>MISS_PCT_TRAFFIC_DMH_UP_12H</th>\n",
       "      <th>MISS_PCT_TRAFFIC_DMH_UP_18H</th>\n",
       "      <th>MISS_PCT_TRAFFIC_DMH_UP_24H</th>\n",
       "      <th>PCT_TRAFFIC_SDMH_UP_6H</th>\n",
       "      <th>PCT_TRAFFIC_SDMH_UP_12H</th>\n",
       "      <th>PCT_TRAFFIC_SDMH_UP_18H</th>\n",
       "      <th>MISS_PCT_TRAFFIC_SDMH_UP_6H</th>\n",
       "      <th>MISS_PCT_TRAFFIC_SDMH_UP_12H</th>\n",
       "      <th>MISS_PCT_TRAFFIC_SDMH_UP_18H</th>\n",
       "      <th>MISS_PCT_TRAFFIC_SDMH_UP_24H</th>\n",
       "    </tr>\n",
       "  </thead>\n",
       "  <tbody>\n",
       "    <tr>\n",
       "      <th>0</th>\n",
       "      <td>0CEEE6E1CD2C</td>\n",
       "      <td>5302149</td>\n",
       "      <td>ch-mbcALT301</td>\n",
       "      <td>RW01</td>\n",
       "      <td>11/04/2018 00:00:00</td>\n",
       "      <td>17/04/2018 00:00:00</td>\n",
       "      <td>WEEKDAY</td>\n",
       "      <td>0.0</td>\n",
       "      <td>0.0</td>\n",
       "      <td>0.0</td>\n",
       "      <td>...</td>\n",
       "      <td>16.666667</td>\n",
       "      <td>0.000000</td>\n",
       "      <td>0.000000</td>\n",
       "      <td>0.0</td>\n",
       "      <td>0.0</td>\n",
       "      <td>0.0</td>\n",
       "      <td>16.666667</td>\n",
       "      <td>16.666667</td>\n",
       "      <td>0.000000</td>\n",
       "      <td>0.000000</td>\n",
       "    </tr>\n",
       "    <tr>\n",
       "      <th>1</th>\n",
       "      <td>0CEEE6E1CD2C</td>\n",
       "      <td>5302149</td>\n",
       "      <td>ch-mbcALT301</td>\n",
       "      <td>RW01</td>\n",
       "      <td>11/04/2018 00:00:00</td>\n",
       "      <td>17/04/2018 00:00:00</td>\n",
       "      <td>WEEKDAY</td>\n",
       "      <td>0.0</td>\n",
       "      <td>0.0</td>\n",
       "      <td>0.0</td>\n",
       "      <td>...</td>\n",
       "      <td>0.000000</td>\n",
       "      <td>16.666667</td>\n",
       "      <td>0.000000</td>\n",
       "      <td>0.0</td>\n",
       "      <td>0.0</td>\n",
       "      <td>0.0</td>\n",
       "      <td>16.666667</td>\n",
       "      <td>0.000000</td>\n",
       "      <td>16.666667</td>\n",
       "      <td>0.000000</td>\n",
       "    </tr>\n",
       "    <tr>\n",
       "      <th>2</th>\n",
       "      <td>0CEEE6E1CD2C</td>\n",
       "      <td>5302149</td>\n",
       "      <td>ch-mbcALT301</td>\n",
       "      <td>RW01</td>\n",
       "      <td>11/04/2018 00:00:00</td>\n",
       "      <td>17/04/2018 00:00:00</td>\n",
       "      <td>WEEKEND</td>\n",
       "      <td>0.0</td>\n",
       "      <td>0.0</td>\n",
       "      <td>0.0</td>\n",
       "      <td>...</td>\n",
       "      <td>16.666667</td>\n",
       "      <td>0.000000</td>\n",
       "      <td>16.666667</td>\n",
       "      <td>0.0</td>\n",
       "      <td>0.0</td>\n",
       "      <td>0.0</td>\n",
       "      <td>0.000000</td>\n",
       "      <td>16.666667</td>\n",
       "      <td>0.000000</td>\n",
       "      <td>16.666667</td>\n",
       "    </tr>\n",
       "    <tr>\n",
       "      <th>3</th>\n",
       "      <td>0CEEE6E1CD2C</td>\n",
       "      <td>5302149</td>\n",
       "      <td>ch-mbcALT301</td>\n",
       "      <td>RW01</td>\n",
       "      <td>11/04/2018 00:00:00</td>\n",
       "      <td>17/04/2018 00:00:00</td>\n",
       "      <td>WEEKEND</td>\n",
       "      <td>0.0</td>\n",
       "      <td>0.0</td>\n",
       "      <td>0.0</td>\n",
       "      <td>...</td>\n",
       "      <td>16.666667</td>\n",
       "      <td>0.000000</td>\n",
       "      <td>16.666667</td>\n",
       "      <td>0.0</td>\n",
       "      <td>0.0</td>\n",
       "      <td>0.0</td>\n",
       "      <td>0.000000</td>\n",
       "      <td>16.666667</td>\n",
       "      <td>0.000000</td>\n",
       "      <td>16.666667</td>\n",
       "    </tr>\n",
       "    <tr>\n",
       "      <th>4</th>\n",
       "      <td>0CEEE6E1CD2C</td>\n",
       "      <td>5302149</td>\n",
       "      <td>ch-mbcALT301</td>\n",
       "      <td>RW01</td>\n",
       "      <td>11/04/2018 00:00:00</td>\n",
       "      <td>17/04/2018 00:00:00</td>\n",
       "      <td>WEEKDAY</td>\n",
       "      <td>0.0</td>\n",
       "      <td>0.0</td>\n",
       "      <td>0.0</td>\n",
       "      <td>...</td>\n",
       "      <td>16.666667</td>\n",
       "      <td>0.000000</td>\n",
       "      <td>0.000000</td>\n",
       "      <td>0.0</td>\n",
       "      <td>0.0</td>\n",
       "      <td>0.0</td>\n",
       "      <td>16.666667</td>\n",
       "      <td>16.666667</td>\n",
       "      <td>0.000000</td>\n",
       "      <td>0.000000</td>\n",
       "    </tr>\n",
       "  </tbody>\n",
       "</table>\n",
       "<p>5 rows × 74 columns</p>\n",
       "</div>"
      ],
      "text/plain": [
       "            MAC  ACCOUNT_NUMBER          CMTS SERVICE_GROUP  \\\n",
       "0  0CEEE6E1CD2C         5302149  ch-mbcALT301          RW01   \n",
       "1  0CEEE6E1CD2C         5302149  ch-mbcALT301          RW01   \n",
       "2  0CEEE6E1CD2C         5302149  ch-mbcALT301          RW01   \n",
       "3  0CEEE6E1CD2C         5302149  ch-mbcALT301          RW01   \n",
       "4  0CEEE6E1CD2C         5302149  ch-mbcALT301          RW01   \n",
       "\n",
       "             FIRST_DAY             LAST_DAY DAY_TYPE  OFFLINE_PCT_6H  \\\n",
       "0  11/04/2018 00:00:00  17/04/2018 00:00:00  WEEKDAY             0.0   \n",
       "1  11/04/2018 00:00:00  17/04/2018 00:00:00  WEEKDAY             0.0   \n",
       "2  11/04/2018 00:00:00  17/04/2018 00:00:00  WEEKEND             0.0   \n",
       "3  11/04/2018 00:00:00  17/04/2018 00:00:00  WEEKEND             0.0   \n",
       "4  11/04/2018 00:00:00  17/04/2018 00:00:00  WEEKDAY             0.0   \n",
       "\n",
       "   OFFLINE_PCT_12H  OFFLINE_PCT_18H              ...               \\\n",
       "0              0.0              0.0              ...                \n",
       "1              0.0              0.0              ...                \n",
       "2              0.0              0.0              ...                \n",
       "3              0.0              0.0              ...                \n",
       "4              0.0              0.0              ...                \n",
       "\n",
       "   MISS_PCT_TRAFFIC_DMH_UP_12H  MISS_PCT_TRAFFIC_DMH_UP_18H  \\\n",
       "0                    16.666667                     0.000000   \n",
       "1                     0.000000                    16.666667   \n",
       "2                    16.666667                     0.000000   \n",
       "3                    16.666667                     0.000000   \n",
       "4                    16.666667                     0.000000   \n",
       "\n",
       "   MISS_PCT_TRAFFIC_DMH_UP_24H  PCT_TRAFFIC_SDMH_UP_6H  \\\n",
       "0                     0.000000                     0.0   \n",
       "1                     0.000000                     0.0   \n",
       "2                    16.666667                     0.0   \n",
       "3                    16.666667                     0.0   \n",
       "4                     0.000000                     0.0   \n",
       "\n",
       "   PCT_TRAFFIC_SDMH_UP_12H  PCT_TRAFFIC_SDMH_UP_18H  \\\n",
       "0                      0.0                      0.0   \n",
       "1                      0.0                      0.0   \n",
       "2                      0.0                      0.0   \n",
       "3                      0.0                      0.0   \n",
       "4                      0.0                      0.0   \n",
       "\n",
       "   MISS_PCT_TRAFFIC_SDMH_UP_6H  MISS_PCT_TRAFFIC_SDMH_UP_12H  \\\n",
       "0                    16.666667                     16.666667   \n",
       "1                    16.666667                      0.000000   \n",
       "2                     0.000000                     16.666667   \n",
       "3                     0.000000                     16.666667   \n",
       "4                    16.666667                     16.666667   \n",
       "\n",
       "   MISS_PCT_TRAFFIC_SDMH_UP_18H  MISS_PCT_TRAFFIC_SDMH_UP_24H  \n",
       "0                      0.000000                      0.000000  \n",
       "1                     16.666667                      0.000000  \n",
       "2                      0.000000                     16.666667  \n",
       "3                      0.000000                     16.666667  \n",
       "4                      0.000000                      0.000000  \n",
       "\n",
       "[5 rows x 74 columns]"
      ]
     },
     "execution_count": 4,
     "metadata": {},
     "output_type": "execute_result"
    }
   ],
   "source": [
    "df = excel_to_df(DATA_PATH,DATA_FOLDER+'/extracted.pk')\n",
    "df.head()"
   ]
  },
  {
   "cell_type": "code",
   "execution_count": 5,
   "metadata": {
    "collapsed": true,
    "scrolled": true
   },
   "outputs": [],
   "source": [
    "cols = list(df.columns)\n",
    "static_infos = ['MAC','ACCOUNT_NUMBER','CMTS','SERVICE_GROUP','FIRST_DAY','LAST_DAY','DAY_TYPE']\n",
    "measurements = [x for x in cols if x not in static_infos]\n",
    "measurements_non_miss = [x for x in measurements if not('MISS' in x)]"
   ]
  },
  {
   "cell_type": "code",
   "execution_count": 6,
   "metadata": {},
   "outputs": [
    {
     "data": {
      "text/plain": [
       "['MAC',\n",
       " 'ACCOUNT_NUMBER',\n",
       " 'CMTS',\n",
       " 'SERVICE_GROUP',\n",
       " 'FIRST_DAY',\n",
       " 'LAST_DAY',\n",
       " 'DAY_TYPE',\n",
       " 'OFFLINE_PCT_6H',\n",
       " 'OFFLINE_PCT_12H',\n",
       " 'OFFLINE_PCT_18H',\n",
       " 'OFFLINE_PCT_24H',\n",
       " 'TX_UP_6H',\n",
       " 'TX_UP_12H',\n",
       " 'TX_UP_18H',\n",
       " 'MISS_TX_UP_6H',\n",
       " 'MISS_TX_UP_12H',\n",
       " 'MISS_TX_UP_18H',\n",
       " 'MISS_TX_UP_24H',\n",
       " 'RX_UP_6H',\n",
       " 'RX_UP_12H',\n",
       " 'RX_UP_18H',\n",
       " 'MISS_RX_UP_6H',\n",
       " 'MISS_RX_UP_12H',\n",
       " 'MISS_RX_UP_18H',\n",
       " 'MISS_RX_UP_24H',\n",
       " 'RX_DN_6H',\n",
       " 'RX_DN_12H',\n",
       " 'RX_DN_18H',\n",
       " 'MISS_RX_DN_6H',\n",
       " 'MISS_RX_DN_12H',\n",
       " 'MISS_RX_DN_18H',\n",
       " 'MISS_RX_DN_24H',\n",
       " 'CER_DN_6H',\n",
       " 'CER_DN_12H',\n",
       " 'CER_DN_18H',\n",
       " 'MISS_CER_DN_6H',\n",
       " 'MISS_CER_DN_12H',\n",
       " 'MISS_CER_DN_18H',\n",
       " 'MISS_CER_DN_24H',\n",
       " 'CER_UP_6H',\n",
       " 'CER_UP_12H',\n",
       " 'CER_UP_18H',\n",
       " 'MISS_CER_UP_12H',\n",
       " 'MISS_CER_UP_6H',\n",
       " 'MISS_CER_UP_18H',\n",
       " 'MISS_CER_UP_24H',\n",
       " 'SNR_DN_6H',\n",
       " 'SNR_DN_12H',\n",
       " 'SNR_DN_18H',\n",
       " 'MISS_SNR_DN_6H',\n",
       " 'MISS_SNR_DN_12H',\n",
       " 'MISS_SNR_DN_18H',\n",
       " 'MISS_SNR_DN_24H',\n",
       " 'SNR_UP_6H',\n",
       " 'SNR_UP_12H',\n",
       " 'SNR_UP_18H',\n",
       " 'MISS_SNR_UP_6H',\n",
       " 'MISS_SNR_UP_12H',\n",
       " 'MISS_SNR_UP_18H',\n",
       " 'MISS_SNR_UP_24H',\n",
       " 'PCT_TRAFFIC_DMH_UP_6H',\n",
       " 'PCT_TRAFFIC_DMH_UP_12H',\n",
       " 'PCT_TRAFFIC_DMH_UP_18H',\n",
       " 'MISS_PCT_TRAFFIC_DMH_UP_6H',\n",
       " 'MISS_PCT_TRAFFIC_DMH_UP_12H',\n",
       " 'MISS_PCT_TRAFFIC_DMH_UP_18H',\n",
       " 'MISS_PCT_TRAFFIC_DMH_UP_24H',\n",
       " 'PCT_TRAFFIC_SDMH_UP_6H',\n",
       " 'PCT_TRAFFIC_SDMH_UP_12H',\n",
       " 'PCT_TRAFFIC_SDMH_UP_18H',\n",
       " 'MISS_PCT_TRAFFIC_SDMH_UP_6H',\n",
       " 'MISS_PCT_TRAFFIC_SDMH_UP_12H',\n",
       " 'MISS_PCT_TRAFFIC_SDMH_UP_18H',\n",
       " 'MISS_PCT_TRAFFIC_SDMH_UP_24H']"
      ]
     },
     "execution_count": 6,
     "metadata": {},
     "output_type": "execute_result"
    }
   ],
   "source": [
    "cols"
   ]
  },
  {
   "cell_type": "code",
   "execution_count": 7,
   "metadata": {},
   "outputs": [
    {
     "data": {
      "text/plain": [
       "67"
      ]
     },
     "execution_count": 7,
     "metadata": {},
     "output_type": "execute_result"
    }
   ],
   "source": [
    "len(measurements)"
   ]
  },
  {
   "cell_type": "markdown",
   "metadata": {},
   "source": [
    "## Kolmogorov-Smirnov statistic on 2 samples.\n",
    "### Not averaging over ```day_type```\n",
    "For this test we consider each samples from the week and weekend wich means that for every router we have 5 sample for the week and 2 for the weekend."
   ]
  },
  {
   "cell_type": "code",
   "execution_count": 8,
   "metadata": {
    "collapsed": true
   },
   "outputs": [],
   "source": [
    "from scipy import stats"
   ]
  },
  {
   "cell_type": "code",
   "execution_count": 9,
   "metadata": {
    "collapsed": true
   },
   "outputs": [],
   "source": [
    "weekday_df = df[df.DAY_TYPE == 'WEEKDAY']\n",
    "weekend_df = df[df.DAY_TYPE == 'WEEKEND']\n",
    "values_weekday = weekday_df['OFFLINE_PCT_6H'].values\n",
    "values_weekend = weekend_df['OFFLINE_PCT_6H'].values"
   ]
  },
  {
   "cell_type": "code",
   "execution_count": 11,
   "metadata": {},
   "outputs": [
    {
     "data": {
      "text/plain": [
       "Ks_2sampResult(statistic=0.0031149509986742041, pvalue=0.99927681127409662)"
      ]
     },
     "execution_count": 11,
     "metadata": {},
     "output_type": "execute_result"
    }
   ],
   "source": [
    "stats.ks_2samp(values_weekday, values_weekend)"
   ]
  },
  {
   "cell_type": "markdown",
   "metadata": {},
   "source": [
    "_meaning of this test_ :\n",
    "> \"If the K-S statistic is small or the p-value is high, then we cannot reject the hypothesis that the distributions of the two samples are the same.\"\n",
    "\n",
    "Therefore the result of this test doesn't allow us to reject the null hypothesis. We will try to see whether it is the case on all the considered variables."
   ]
  },
  {
   "cell_type": "code",
   "execution_count": 12,
   "metadata": {
    "scrolled": false
   },
   "outputs": [
    {
     "data": {
      "text/html": [
       "<div>\n",
       "<style>\n",
       "    .dataframe thead tr:only-child th {\n",
       "        text-align: right;\n",
       "    }\n",
       "\n",
       "    .dataframe thead th {\n",
       "        text-align: left;\n",
       "    }\n",
       "\n",
       "    .dataframe tbody tr th {\n",
       "        vertical-align: top;\n",
       "    }\n",
       "</style>\n",
       "<table border=\"1\" class=\"dataframe\">\n",
       "  <thead>\n",
       "    <tr style=\"text-align: right;\">\n",
       "      <th></th>\n",
       "      <th>statistic</th>\n",
       "      <th>pvalue</th>\n",
       "    </tr>\n",
       "    <tr>\n",
       "      <th>measurement</th>\n",
       "      <th></th>\n",
       "      <th></th>\n",
       "    </tr>\n",
       "  </thead>\n",
       "  <tbody>\n",
       "    <tr>\n",
       "      <th>MISS_PCT_TRAFFIC_DMH_UP_18H</th>\n",
       "      <td>0.397146</td>\n",
       "      <td>0.0</td>\n",
       "    </tr>\n",
       "    <tr>\n",
       "      <th>MISS_SNR_UP_18H</th>\n",
       "      <td>0.394048</td>\n",
       "      <td>0.0</td>\n",
       "    </tr>\n",
       "    <tr>\n",
       "      <th>MISS_SNR_DN_18H</th>\n",
       "      <td>0.372491</td>\n",
       "      <td>0.0</td>\n",
       "    </tr>\n",
       "  </tbody>\n",
       "</table>\n",
       "</div>"
      ],
      "text/plain": [
       "                             statistic  pvalue\n",
       "measurement                                   \n",
       "MISS_PCT_TRAFFIC_DMH_UP_18H   0.397146     0.0\n",
       "MISS_SNR_UP_18H               0.394048     0.0\n",
       "MISS_SNR_DN_18H               0.372491     0.0"
      ]
     },
     "execution_count": 12,
     "metadata": {},
     "output_type": "execute_result"
    }
   ],
   "source": [
    "def get_ks_test_result(weekday_df,weekend_df,with_miss_mes=True):\n",
    "    results = []\n",
    "    considered_mes = measurements\n",
    "    if(not with_miss_mes):\n",
    "        considered_mes = measurements_non_miss\n",
    "    for mes in considered_mes:\n",
    "        test = stats.ks_2samp(weekday_df[mes].values, weekend_df[mes].values)\n",
    "        results.append({'measurement':mes,'statistic':test.statistic,'pvalue':test.pvalue})\n",
    "    result_df = pd.DataFrame(results).set_index('measurement')[['statistic','pvalue']]\n",
    "    return result_df.sort_values(by='pvalue',ascending=True)\n",
    "\n",
    "get_ks_test_result(weekday_df,weekend_df).head(3)"
   ]
  },
  {
   "cell_type": "markdown",
   "metadata": {},
   "source": [
    "Mow that we can see that some p-value are fairly low (for exemple for ```MISS_CER_DN_24H``` we can reject the null hypothesis with significance level less than $0.01\\%$. We are sure that the distributions are different at $99.99\\%$. Therefore we wanted to observe graphically how this translates in term of distribution."
   ]
  },
  {
   "cell_type": "code",
   "execution_count": 13,
   "metadata": {
    "collapsed": true
   },
   "outputs": [],
   "source": [
    "import math\n",
    "def plot_difference(column_name,week_df=weekday_df,weekend_df=weekend_df,ratio_pop_show=0.9,n_bins=1000):\n",
    "    week_serie = week_df[column_name].dropna()\n",
    "    weekend_serie = weekend_df[column_name].dropna()\n",
    "    \n",
    "    f, axes = plt.subplots(1, 2, figsize=(28, 7), sharex=True , sharey =True)\n",
    "    axes[0].set_title(\"Weekend\")\n",
    "    axes[1].set_title(\"Week\")\n",
    "        \n",
    "    # Then we compute the x axis limit such that ratio_pop_show is shown on the graph\n",
    "    lower_quantile = (1-ratio_pop_show)/2\n",
    "    upper_quantile = 1-lower_quantile\n",
    "    lower_x = min(week_serie.quantile(lower_quantile),weekend_serie.quantile(lower_quantile))\n",
    "    upper_x = max(week_serie.quantile(upper_quantile),weekend_serie.quantile(upper_quantile))\n",
    "    if('MISS' in column_name):\n",
    "        week_serie.value_counts().apply(lambda x: x/week_serie.count()).sort_index().plot(kind='bar',title='Week',color=\"red\",ax=axes[1])\n",
    "        weekend_serie.value_counts().apply(lambda x: x/weekend_serie.count()).sort_index().plot(kind='bar',title='Weekend',color=\"skyblue\",ax=axes[0])\n",
    "    else :\n",
    "        axes[0].set_xlim(lower_x,upper_x)\n",
    "        axes[1].set_xlim(lower_x,upper_x)\n",
    "        sns.distplot(weekend_serie,bins=n_bins,color=\"skyblue\",ax=axes[0],norm_hist=True)\n",
    "        sns.distplot(week_serie,bins=n_bins,color=\"red\",ax=axes[1],norm_hist=True)"
   ]
  },
  {
   "cell_type": "code",
   "execution_count": 14,
   "metadata": {
    "scrolled": true
   },
   "outputs": [
    {
     "data": {
      "image/png": "[encoded data removed]",
      "text/plain": [
       "<matplotlib.figure.Figure at 0x110f44048>"
      ]
     },
     "metadata": {},
     "output_type": "display_data"
    }
   ],
   "source": [
    "plot_difference('MISS_PCT_TRAFFIC_DMH_UP_18H')"
   ]
  },
  {
   "cell_type": "code",
   "execution_count": 15,
   "metadata": {},
   "outputs": [
    {
     "data": {
      "image/png": "[encoded data removed]",
      "text/plain": [
       "<matplotlib.figure.Figure at 0x1121fbe48>"
      ]
     },
     "metadata": {},
     "output_type": "display_data"
    }
   ],
   "source": [
    "plot_difference('MISS_SNR_UP_18H')"
   ]
  },
  {
   "cell_type": "code",
   "execution_count": 16,
   "metadata": {
    "scrolled": true
   },
   "outputs": [
    {
     "data": {
      "image/png": "[encoded data removed]",
      "text/plain": [
       "<matplotlib.figure.Figure at 0x1126f91d0>"
      ]
     },
     "metadata": {},
     "output_type": "display_data"
    }
   ],
   "source": [
    "plot_difference('MISS_SNR_DN_18H')"
   ]
  },
  {
   "cell_type": "markdown",
   "metadata": {},
   "source": [
    "Unfortunately, due to the number of days that are observed for week ends and for week days we cannot be sure that this result can actually be trusted as it is possible that it simply comes from the fact that we have unbalanced classes. But also we see that here because the ```MISS_*``` measurements are simply the ratio over 6h windows of missing mesurements, it isn't a continuous variable it is hard to conclude on the ks_test (*Also, from the documentation we can see that the test assumes continuous variables*  and therefore has non value here). \n",
    "\n",
    "By observing the distributions we see that we have a pattern, for the 3 cases, for weekdays most of the samples are 0 while about $40\\%$ of them are $16.7$ for weekends. which translates in having just one missing value over a 6h window which isn't necessarily a noticeable difference. \n",
    "\n",
    "Therefore we decided to look at measurement that are real measurement and not just missing ratios.\n",
    "\n"
   ]
  },
  {
   "cell_type": "code",
   "execution_count": 17,
   "metadata": {
    "scrolled": true
   },
   "outputs": [
    {
     "data": {
      "text/html": [
       "<div>\n",
       "<style>\n",
       "    .dataframe thead tr:only-child th {\n",
       "        text-align: right;\n",
       "    }\n",
       "\n",
       "    .dataframe thead th {\n",
       "        text-align: left;\n",
       "    }\n",
       "\n",
       "    .dataframe tbody tr th {\n",
       "        vertical-align: top;\n",
       "    }\n",
       "</style>\n",
       "<table border=\"1\" class=\"dataframe\">\n",
       "  <thead>\n",
       "    <tr style=\"text-align: right;\">\n",
       "      <th></th>\n",
       "      <th>statistic</th>\n",
       "      <th>pvalue</th>\n",
       "    </tr>\n",
       "    <tr>\n",
       "      <th>measurement</th>\n",
       "      <th></th>\n",
       "      <th></th>\n",
       "    </tr>\n",
       "  </thead>\n",
       "  <tbody>\n",
       "    <tr>\n",
       "      <th>CER_UP_12H</th>\n",
       "      <td>0.128066</td>\n",
       "      <td>2.547019e-198</td>\n",
       "    </tr>\n",
       "    <tr>\n",
       "      <th>CER_UP_6H</th>\n",
       "      <td>0.094043</td>\n",
       "      <td>3.869613e-107</td>\n",
       "    </tr>\n",
       "    <tr>\n",
       "      <th>CER_DN_18H</th>\n",
       "      <td>0.092828</td>\n",
       "      <td>2.120185e-104</td>\n",
       "    </tr>\n",
       "  </tbody>\n",
       "</table>\n",
       "</div>"
      ],
      "text/plain": [
       "             statistic         pvalue\n",
       "measurement                          \n",
       "CER_UP_12H    0.128066  2.547019e-198\n",
       "CER_UP_6H     0.094043  3.869613e-107\n",
       "CER_DN_18H    0.092828  2.120185e-104"
      ]
     },
     "execution_count": 17,
     "metadata": {},
     "output_type": "execute_result"
    }
   ],
   "source": [
    "get_ks_test_result(weekday_df,weekend_df,with_miss_mes=False).head(3)"
   ]
  },
  {
   "cell_type": "code",
   "execution_count": 18,
   "metadata": {
    "scrolled": true
   },
   "outputs": [
    {
     "data": {
      "image/png": "[encoded data removed]",
      "text/plain": [
       "<matplotlib.figure.Figure at 0x11277a860>"
      ]
     },
     "metadata": {},
     "output_type": "display_data"
    }
   ],
   "source": [
    "plot_difference('CER_UP_6H')"
   ]
  },
  {
   "cell_type": "code",
   "execution_count": 19,
   "metadata": {
    "scrolled": false
   },
   "outputs": [
    {
     "data": {
      "image/png": "[encoded data removed]",
      "text/plain": [
       "<matplotlib.figure.Figure at 0x110d192e8>"
      ]
     },
     "metadata": {},
     "output_type": "display_data"
    }
   ],
   "source": [
    "plot_difference('CER_UP_12H')"
   ]
  },
  {
   "cell_type": "code",
   "execution_count": 20,
   "metadata": {},
   "outputs": [
    {
     "data": {
      "image/png": "[encoded data removed]",
      "text/plain": [
       "<matplotlib.figure.Figure at 0x1a1ca29a58>"
      ]
     },
     "metadata": {},
     "output_type": "display_data"
    }
   ],
   "source": [
    "plot_difference('CER_DN_18H',n_bins=10000)"
   ]
  },
  {
   "cell_type": "code",
   "execution_count": 21,
   "metadata": {
    "scrolled": true
   },
   "outputs": [
    {
     "data": {
      "text/plain": [
       "(-0.005, 0.01)"
      ]
     },
     "execution_count": 21,
     "metadata": {},
     "output_type": "execute_result"
    },
    {
     "data": {
      "image/png": "[encoded data removed]",
      "text/plain": [
       "<matplotlib.figure.Figure at 0x1a1e64e630>"
      ]
     },
     "metadata": {},
     "output_type": "display_data"
    }
   ],
   "source": [
    "axes = weekday_df['CER_DN_18H'].dropna().hist(cumulative=True, normed=1, bins=10000,histtype='step')\n",
    "axes.set_xlim(-0.005,0.010)"
   ]
  },
  {
   "cell_type": "code",
   "execution_count": 22,
   "metadata": {
    "scrolled": true
   },
   "outputs": [
    {
     "data": {
      "text/plain": [
       "(-0.005, 0.01)"
      ]
     },
     "execution_count": 22,
     "metadata": {},
     "output_type": "execute_result"
    },
    {
     "data": {
      "image/png": "[encoded data removed]",
      "text/plain": [
       "<matplotlib.figure.Figure at 0x1a26c0fef0>"
      ]
     },
     "metadata": {},
     "output_type": "display_data"
    }
   ],
   "source": [
    "axes = weekend_df['CER_DN_18H'].dropna().hist(cumulative=True, normed=1, bins=10000,histtype='step',color='red')\n",
    "axes.set_xlim(-0.005,0.010)"
   ]
  },
  {
   "cell_type": "markdown",
   "metadata": {},
   "source": [
    "But again the difference isn't so clear here and we cannot necessarily exclude the fact that these come from different distribution as this difference could arise from the lack of data."
   ]
  },
  {
   "cell_type": "markdown",
   "metadata": {},
   "source": [
    "## Multivariate Two sample tests\n",
    "The problem with the previous test is that it considers only each dimension independently but we are interested in determining if the ```day_type``` influences our vector. Some links of interest :\n",
    "1. [Modern two sample tests](https://normaldeviate.wordpress.com/2012/07/14/modern-two-sample-tests/): lists a couple of methods that might become useful to run such test\n",
    "2. [A Multivariate Two-Sample Test Based on the Concept of Minimum Energy](https://pdfs.semanticscholar.org/60e8/b69d6f91a64231a0ab6bf1ddef1e88fb03f6.pdf)\n",
    "3. [Testing For Equal Distributions In High Dimension](https://pdfs.semanticscholar.org/ad5e/91905a85d6f671c04a67779fd1377e86d199.pdf): Bootstrap and Energy distance\n",
    "4. [A Test for Equality of Distributions in High Dimensions](https://arxiv.org/pdf/1008.2877.pdf): Bootstrap and nearest neighbor distribution\n",
    "5. [Testing for the Equality of two Distributions on High Dimensional Object Spaces](https://arxiv.org/pdf/1703.07856.pdf)\n",
    "\n",
    "The third link seems to be a good approach for our use case. Nevertheless it will ask for some numpy tricks as it can be quite computationally expensive if it isn't done properly, therefore we use some Dynamic programming (in order to not recompute the euclidean distance between each vector multiple times) and numpy fancy indexing in order to use already implemented optimization."
   ]
  },
  {
   "cell_type": "code",
   "execution_count": 10,
   "metadata": {
    "collapsed": true
   },
   "outputs": [],
   "source": [
    "%autoreload\n",
    "from energy_test_DP import *"
   ]
  },
  {
   "cell_type": "markdown",
   "metadata": {},
   "source": [
    "### Testing on dummy samples"
   ]
  },
  {
   "cell_type": "markdown",
   "metadata": {},
   "source": [
    "Now we test briefly that the method does indeed detect different and equal sampling distributions "
   ]
  },
  {
   "cell_type": "code",
   "execution_count": 11,
   "metadata": {
    "collapsed": true
   },
   "outputs": [],
   "source": [
    "DISTANCE_MATRIX_FOLDER = 'Distance_matrices/'"
   ]
  },
  {
   "cell_type": "code",
   "execution_count": 24,
   "metadata": {},
   "outputs": [
    {
     "name": "stdout",
     "output_type": "stream",
     "text": [
      "Retrieving the distance matrix at: Distance_matrices/same_distrib.npy\n",
      "[############################################################] 100.0% (499/499) \n",
      "We cannot reject the Null hypothesis (CL = 99%): p-value = 0.9078156312625251\n",
      "\t observed = 0.8167816925175986 \t limit = 4.9624303029906685\n",
      "Execution time: 2.2702s\n"
     ]
    }
   ],
   "source": [
    "# Here it shouldn't reject the null hypothesis as the two are sampled from the same distribution\n",
    "path = DISTANCE_MATRIX_FOLDER + 'same_distrib'\n",
    "x = np.stack([np.random.exponential(size=200),np.random.normal(size=200)])\n",
    "y = np.stack([np.random.exponential(size=200),np.random.normal(size=200)])\n",
    "E_distance_replicates = energy_two_sample_test(x,y,499,1,distance_matrix_bkp=path)"
   ]
  },
  {
   "cell_type": "code",
   "execution_count": 25,
   "metadata": {},
   "outputs": [
    {
     "name": "stdout",
     "output_type": "stream",
     "text": [
      "Retrieving the distance matrix at: Distance_matrices/different_distrib.npy\n",
      "[############################################################] 100.0% (499/499) \n",
      "We reject the Null hypothesis (CL = 99%): p-value = 0.0\n",
      "\t observed = 45.12231659320376 \t limit = 5.155269654338991\n",
      "Execution time: 1.9641s\n"
     ]
    }
   ],
   "source": [
    "# While here it should reject for obvious reasons\n",
    "path = DISTANCE_MATRIX_FOLDER + 'different_distrib'\n",
    "x = np.stack([np.random.exponential(size=200),np.random.normal(size=200)])\n",
    "y = np.stack([np.random.normal(size=200),np.random.normal(size=200)])\n",
    "E_distance_replicates = energy_two_sample_test(x,y,499,1,distance_matrix_bkp=path)"
   ]
  },
  {
   "cell_type": "markdown",
   "metadata": {},
   "source": [
    "### Running on ```day_type``` averages to have a contained dataset size"
   ]
  },
  {
   "cell_type": "markdown",
   "metadata": {},
   "source": [
    "The size of the distance matrix on the full dataset makes it very long to run and hard to store."
   ]
  },
  {
   "cell_type": "code",
   "execution_count": 12,
   "metadata": {
    "collapsed": true
   },
   "outputs": [],
   "source": [
    "weekday_df_avg = weekday_df.groupby(by=['MAC','ACCOUNT_NUMBER','CMTS','SERVICE_GROUP','FIRST_DAY','LAST_DAY']).mean()\n",
    "weekend_df_avg = weekend_df.groupby(by=['MAC','ACCOUNT_NUMBER','CMTS','SERVICE_GROUP','FIRST_DAY','LAST_DAY']).mean()"
   ]
  },
  {
   "cell_type": "code",
   "execution_count": 13,
   "metadata": {
    "scrolled": false
   },
   "outputs": [
    {
     "name": "stdout",
     "output_type": "stream",
     "text": [
      "Retrieving the distance matrix at: Distance_matrices/day_type_avg.npy\n",
      "[############################################################] 100.0% (99/99) \n",
      "We reject the Null hypothesis (CL = 99%): p-value = 0.0\n",
      "\t observed = 87340.1873985218 \t limit = 89.83306149340355\n",
      "Execution time: 353.4686s\n"
     ]
    }
   ],
   "source": [
    "path = DISTANCE_MATRIX_FOLDER + 'day_type_avg'\n",
    "x = weekday_df_avg[measurements].dropna().values.T\n",
    "y = weekend_df_avg[measurements].dropna().values.T\n",
    "E_distance_replicates = energy_two_sample_test(x,y,99,1,distance_matrix_bkp=path)\n",
    "#used to run in 504s when computing the distance matrix"
   ]
  },
  {
   "cell_type": "code",
   "execution_count": 14,
   "metadata": {},
   "outputs": [
    {
     "name": "stdout",
     "output_type": "stream",
     "text": [
      "Replicates range in: [14.29,90.842]\n"
     ]
    }
   ],
   "source": [
    "E_distance_replicates.sort()\n",
    "min_ = E_distance_replicates[0]\n",
    "max_ = E_distance_replicates[-1]\n",
    "print('Replicates range in: [{},{}]'.format(round(min_,3),round(max_,3)))"
   ]
  },
  {
   "cell_type": "markdown",
   "metadata": {},
   "source": [
    "We could challenge this result given the very high dimension of the vectors that could cause the euclidean dimension to overshoot."
   ]
  },
  {
   "cell_type": "markdown",
   "metadata": {},
   "source": [
    "### Running on the full dataset with some tweaking"
   ]
  },
  {
   "cell_type": "markdown",
   "metadata": {},
   "source": [
    "Running on the full dataset was not possible so rather than taking all the samples that are available to us we will sample from the full to obtain random samples from the weekday and weekend to perform the test efficiently.\n",
    "\n",
    "The dataset has:\n",
    "* $44'556$ samples from the week\n",
    "* $17'740$ samples from the weekend\n",
    "\n",
    "Because we sample we cannot store the distance matrix and need to recompute it each time."
   ]
  },
  {
   "cell_type": "code",
   "execution_count": 13,
   "metadata": {
    "collapsed": true
   },
   "outputs": [],
   "source": [
    "x = weekday_df[measurements].dropna().values.T\n",
    "y = weekend_df[measurements].dropna().values.T\n",
    "\n",
    "# and we sample it without replacement\n",
    "sample_size = 10000\n",
    "x_samp = x[:,np.random.choice(x.shape[1],sample_size,replace=False)]\n",
    "y_samp = y[:,np.random.choice(y.shape[1],sample_size,replace=False)]"
   ]
  },
  {
   "cell_type": "code",
   "execution_count": 28,
   "metadata": {},
   "outputs": [
    {
     "name": "stdout",
     "output_type": "stream",
     "text": [
      "Computing the distance matrix...\n",
      "[############################################################] 100.0% (99/99) \n",
      "We reject the Null hypothesis (CL = 99%): p-value = 0.0\n",
      "\t observed = 58215.32505122796 \t limit = 96.70411717941711\n",
      "Execution time: 489.2681s\n"
     ]
    }
   ],
   "source": [
    "E_distance_replicates = energy_two_sample_test(x_samp,y_samp,99,1,use_bkp=False)"
   ]
  },
  {
   "cell_type": "markdown",
   "metadata": {
    "collapsed": true
   },
   "source": [
    "As a control we would like to run the same test but on the population that we suppose are from the same distribution."
   ]
  },
  {
   "cell_type": "code",
   "execution_count": 36,
   "metadata": {
    "collapsed": true
   },
   "outputs": [],
   "source": [
    "week_sample = x[:,np.random.choice(x.shape[1],2*sample_size,replace=False)]\n",
    "x_samp = week_sample[:,:sample_size]\n",
    "y_samp = week_sample[:,sample_size:]"
   ]
  },
  {
   "cell_type": "code",
   "execution_count": 42,
   "metadata": {},
   "outputs": [
    {
     "name": "stdout",
     "output_type": "stream",
     "text": [
      "Computing the distance matrix...\n",
      "[############################################################] 100.0% (99/99) \n",
      "We cannot reject the Null hypothesis (CL = 99%): p-value = 0.12121212121212122\n",
      "\t observed = 50.38000818673005 \t limit = 95.56597895509938\n",
      "Execution time: 126.4352s\n"
     ]
    }
   ],
   "source": [
    "E_distance_replicates = energy_two_sample_test(x_samp,y_samp,99,1,use_bkp=False)"
   ]
  },
  {
   "cell_type": "markdown",
   "metadata": {},
   "source": [
    "The results aren't so convincing, the p-value being $0.12$ we cannot reject at significance level $0.01$ and this is still a good indicator for the following tasks. "
   ]
  },
  {
   "cell_type": "code",
   "execution_count": 41,
   "metadata": {
    "scrolled": false
   },
   "outputs": [
    {
     "name": "stdout",
     "output_type": "stream",
     "text": [
      "Computing the distance matrix...\n",
      "[############################################################] 100.0% (99/99) \n",
      "We cannot reject the Null hypothesis (CL = 99%): p-value = 0.13131313131313133\n",
      "\t observed = 50.38000818673005 \t limit = 75.66647552859924\n",
      "Execution time: 119.3372s\n"
     ]
    }
   ],
   "source": [
    "sample_size = 5000\n",
    "weekend_sample = y[:,np.random.choice(y.shape[1],2*sample_size,replace=False)]\n",
    "x_samp = weekend_sample[:,:sample_size]\n",
    "y_samp = weekend_sample[:,sample_size:]\n",
    "E_distance_replicates = energy_two_sample_test(x_samp,y_samp,99,1,use_bkp=False)"
   ]
  },
  {
   "cell_type": "markdown",
   "metadata": {},
   "source": [
    "We will now try to use a more meaningfull test where we perform multiple test on the full dataset using multiple samples to obtain a more meaningful p-value."
   ]
  },
  {
   "cell_type": "code",
   "execution_count": 27,
   "metadata": {
    "collapsed": true
   },
   "outputs": [
    {
     "name": "stdout",
     "output_type": "stream",
     "text": [
      "[############################################################] 100.0% (990/990) \n",
      "We reject the Null hypothesis (CL = 99%): p-value has mean=0.0 and std=0.0 \n",
      "Execution time: 5484.1422s\n"
     ]
    },
    {
     "data": {
      "text/plain": [
       "([0.0, 0.0, 0.0, 0.0, 0.0, 0.0, 0.0, 0.0, 0.0, 0.0],\n",
       " [58662.231230840509,\n",
       "  59290.770452897676,\n",
       "  59522.93684303054,\n",
       "  57136.764587375736,\n",
       "  59119.116788486877,\n",
       "  59321.615898998345,\n",
       "  59537.316702544573,\n",
       "  57492.547410494553,\n",
       "  58233.875041525884,\n",
       "  58821.072623467342],\n",
       " [104.95966340111232,\n",
       "  106.24708047568477,\n",
       "  102.55376404058863,\n",
       "  86.538509209824284,\n",
       "  115.37130309996884,\n",
       "  127.99711350537623,\n",
       "  106.40615845759881,\n",
       "  132.53899972575667,\n",
       "  95.104460215433193,\n",
       "  80.591169547495355])"
      ]
     },
     "execution_count": 27,
     "metadata": {},
     "output_type": "execute_result"
    }
   ],
   "source": [
    "x = weekday_df[measurements].dropna().values.T\n",
    "y = weekend_df[measurements].dropna().values.T\n",
    "energy_two_sample_large_dataset(x,y)"
   ]
  },
  {
   "cell_type": "code",
   "execution_count": 28,
   "metadata": {
    "collapsed": true
   },
   "outputs": [
    {
     "name": "stdout",
     "output_type": "stream",
     "text": [
      "[############################################################] 100.0% (990/990) \n",
      "We cannot reject the Null hypothesis (CL = 99%): p-value has mean=0.5202020202020202 and std=0.18774025521507529 \n",
      "Execution time: 1236.9894s\n"
     ]
    },
    {
     "data": {
      "text/plain": [
       "([0.32323232323232326,\n",
       "  0.6666666666666666,\n",
       "  0.3939393939393939,\n",
       "  0.9090909090909091,\n",
       "  0.5353535353535354,\n",
       "  0.5252525252525253,\n",
       "  0.31313131313131315,\n",
       "  0.7171717171717171,\n",
       "  0.5050505050505051,\n",
       "  0.31313131313131315],\n",
       " [48.86123966842959,\n",
       "  32.148569212200329,\n",
       "  43.928735860934154,\n",
       "  19.623254623652997,\n",
       "  34.892455218589191,\n",
       "  37.762817586148856,\n",
       "  50.191072669978354,\n",
       "  31.944791634987979,\n",
       "  37.822973547285699,\n",
       "  46.389556087067518],\n",
       " [136.25407097420705,\n",
       "  109.91117892555387,\n",
       "  127.73731942298984,\n",
       "  123.80368731708522,\n",
       "  122.58928702198332,\n",
       "  108.81053388556015,\n",
       "  111.75739546238856,\n",
       "  126.3565388689933,\n",
       "  110.37533108895943,\n",
       "  133.80636814676299])"
      ]
     },
     "execution_count": 28,
     "metadata": {},
     "output_type": "execute_result"
    }
   ],
   "source": [
    "energy_two_sample_large_dataset(x,None,sample_size=5000,similar=True)"
   ]
  },
  {
   "cell_type": "code",
   "execution_count": 29,
   "metadata": {
    "collapsed": true
   },
   "outputs": [
    {
     "name": "stdout",
     "output_type": "stream",
     "text": [
      "[############################################################] 100.0% (990/990) \n",
      "We cannot reject the Null hypothesis (CL = 99%): p-value has mean=0.5585858585858585 and std=0.2425946370863689 \n",
      "Execution time: 1269.9263s\n"
     ]
    },
    {
     "data": {
      "text/plain": [
       "([0.41414141414141414,\n",
       "  0.9494949494949495,\n",
       "  0.7575757575757576,\n",
       "  0.21212121212121213,\n",
       "  0.5454545454545454,\n",
       "  0.7777777777777778,\n",
       "  0.3939393939393939,\n",
       "  0.18181818181818182,\n",
       "  0.6060606060606061,\n",
       "  0.7474747474747475],\n",
       " [29.975235372932119,\n",
       "  10.802917666330458,\n",
       "  17.475160939905976,\n",
       "  40.300985369778886,\n",
       "  21.788645126878947,\n",
       "  18.16921853426301,\n",
       "  26.99405539304145,\n",
       "  44.014317117060386,\n",
       "  22.493572009221197,\n",
       "  18.836455261768137],\n",
       " [68.475453745590841,\n",
       "  70.485043933281545,\n",
       "  60.67393505174077,\n",
       "  70.02248487914126,\n",
       "  61.729832919697685,\n",
       "  63.893673910058624,\n",
       "  79.411172453956212,\n",
       "  61.155183873154442,\n",
       "  84.655853126974378,\n",
       "  88.389280672916968])"
      ]
     },
     "execution_count": 29,
     "metadata": {},
     "output_type": "execute_result"
    }
   ],
   "source": [
    "energy_two_sample_large_dataset(y,None,sample_size=5000,similar=True)"
   ]
  }
 ],
 "metadata": {
  "kernelspec": {
   "display_name": "Python 3",
   "language": "python",
   "name": "python3"
  },
  "language_info": {
   "codemirror_mode": {
    "name": "ipython",
    "version": 3
   },
   "file_extension": ".py",
   "mimetype": "text/x-python",
   "name": "python",
   "nbconvert_exporter": "python",
   "pygments_lexer": "ipython3",
   "version": "3.6.3"
  },
  "toc": {
   "base_numbering": 1,
   "nav_menu": {},
   "number_sections": true,
   "sideBar": true,
   "skip_h1_title": false,
   "title_cell": "Table of Contents",
   "title_sidebar": "Contents",
   "toc_cell": false,
   "toc_position": {
    "height": "calc(100% - 180px)",
    "left": "10px",
    "top": "150px",
    "width": "165px"
   },
   "toc_section_display": true,
   "toc_window_display": true
  }
 },
 "nbformat": 4,
 "nbformat_minor": 2
}
