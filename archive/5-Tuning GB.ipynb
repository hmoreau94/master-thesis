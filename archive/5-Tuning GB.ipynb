{
 "cells": [
  {
   "cell_type": "markdown",
   "metadata": {
    "toc": true
   },
   "source": [
    "<h1>Table of Contents<span class=\"tocSkip\"></span></h1>\n",
    "<div class=\"toc\"><ul class=\"toc-item\"><li><span><a href=\"#Tuning-Boosting-parameters\" data-toc-modified-id=\"Tuning-Boosting-parameters-1\"><span class=\"toc-item-num\">1&nbsp;&nbsp;</span>Tuning Boosting parameters</a></span></li><li><span><a href=\"#Tuning-tree-based-parameters\" data-toc-modified-id=\"Tuning-tree-based-parameters-2\"><span class=\"toc-item-num\">2&nbsp;&nbsp;</span>Tuning tree based parameters</a></span></li></ul></div>"
   ]
  },
  {
   "cell_type": "code",
   "execution_count": 1,
   "metadata": {
    "collapsed": true
   },
   "outputs": [],
   "source": [
    "# Some important imports\n",
    "%matplotlib inline\n",
    "%load_ext autoreload\n",
    "%autoreload 2\n",
    "\n",
    "import numpy as np\n",
    "import pandas as pd\n",
    "pd.options.mode.chained_assignment = None\n",
    "import matplotlib.pyplot as plt\n",
    "import seaborn as sns\n",
    "import itertools\n",
    "sns.set_context('notebook')\n",
    "\n",
    "# Sklearn imports\n",
    "import sklearn\n",
    "from sklearn.ensemble import RandomForestClassifier\n",
    "from sklearn.pipeline import make_pipeline\n",
    "from sklearn.decomposition import PCA\n",
    "from sklearn.discriminant_analysis import LinearDiscriminantAnalysis\n",
    "from sklearn.model_selection import train_test_split\n",
    "\n",
    "# Own Scripts import\n",
    "from scripts.utils import *\n",
    "from scripts.preprocessing import *\n",
    "from scripts.plot import *\n",
    "from scripts.model_selection import *\n",
    "\n",
    "# get rid of warning due to deprecated modules in sklearn\n",
    "import warnings\n",
    "warnings.simplefilter('ignore')"
   ]
  },
  {
   "cell_type": "code",
   "execution_count": 2,
   "metadata": {
    "scrolled": true
   },
   "outputs": [
    {
     "name": "stdout",
     "output_type": "stream",
     "text": [
      "Retrieving from ./Data/sample_22_05_sick_only.pk\n",
      "The sample is composed of : 14330 vectors of dimension 291\n",
      "\tn_sick\t\t=   3733\n",
      "\tn_healthy\t=  10597\n",
      "Deleting 54 features (18.305%).\n"
     ]
    }
   ],
   "source": [
    "DATA_FOLDER = './Data'\n",
    "s_day = '22_05'\n",
    "DATA_PATH = DATA_FOLDER + '/sample_'+s_day+'.xlsx'\n",
    "BACKUP_PATH = DATA_FOLDER+'/sample_'+s_day+'.pk'\n",
    "\n",
    "\n",
    "extracted = import_sample(DATA_PATH,BACKUP_PATH)\n",
    "dates = extracted['day_0'].values\n",
    "x_extracted, y_extracted = get_ml_data(extracted)\n",
    "\n",
    "y = convert_to_binary_labels(y_extracted)\n",
    "x_encoded = encode_categorical(x_extracted)\n",
    "x_df = remove_features(x_encoded,verbose = True)\n",
    "x = x_df.values"
   ]
  },
  {
   "cell_type": "code",
   "execution_count": 4,
   "metadata": {},
   "outputs": [
    {
     "data": {
      "text/plain": [
       "internet.noconnection.start              2907\n",
       "internet.interruption.start               487\n",
       "internet.performance.start                187\n",
       "internet.services.connectapp.start         88\n",
       "internet.wifree.start                      47\n",
       "tv.check                                   15\n",
       "internet.installation.powerline.start       2\n",
       "Name: milestone_name, dtype: int64"
      ]
     },
     "execution_count": 4,
     "metadata": {},
     "output_type": "execute_result"
    }
   ],
   "source": [
    "extracted['milestone_name'].value_counts()"
   ]
  },
  {
   "cell_type": "markdown",
   "metadata": {},
   "source": [
    "We have seen during the model exploration phase that Gradient Boosting shows promising results compared to other models. Therefore we will try to tune this model as much as possible. In order to perform such tuning we need to define a scoring function. \n",
    "\n",
    "While the ROC-AUC (Area Under the ROC Curve) seems to be used fairly often to measure the performance of classifier we are here in a case that corresponds to anomaly detection and therefore the ROC curve is less powerful as it cannot well discriminate when the number of TN is much higher than TP. Therefore we will use this metric in order to score our classifiers."
   ]
  },
  {
   "cell_type": "markdown",
   "metadata": {},
   "source": [
    "The general approach is to fix the learning rate and the number of estimators for tuning tree based parameters. Indeed there are a lot of parameters that can be modified therefore we need a strategy to avoid an exponentially growing number of possible combination.\n",
    "\n",
    "learning_rate \n",
    "n_estimators \n",
    "max_depth \n",
    "min_samples_split\n",
    "max_features"
   ]
  },
  {
   "cell_type": "code",
   "execution_count": 11,
   "metadata": {
    "collapsed": true
   },
   "outputs": [],
   "source": [
    "clf = make_pipeline(sklearn.preprocessing.Imputer(strategy='mean'),\n",
    "                                          sklearn.preprocessing.StandardScaler(),\n",
    "                                          sklearn.ensemble.GradientBoostingClassifier(n_estimators=20))"
   ]
  },
  {
   "cell_type": "code",
   "execution_count": 12,
   "metadata": {
    "collapsed": true
   },
   "outputs": [],
   "source": [
    "splits = distinct_date_split(x,y,dates,2)\n",
    "train_index,test_index = splits[0]\n",
    "x_train, x_test,y_train, y_test = x[train_index], x[test_index], y[train_index], y[test_index]\n",
    "clf.fit(x_train,y_train)\n",
    "y_proba_sick = clf.predict_proba(x_test)[:,1]\n",
    "precision, recall, _ = sklearn.metrics.precision_recall_curve(y_test, y_proba_sick)"
   ]
  },
  {
   "cell_type": "code",
   "execution_count": 20,
   "metadata": {
    "scrolled": false
   },
   "outputs": [
    {
     "data": {
      "text/plain": [
       "0.20239320998441984"
      ]
     },
     "execution_count": 20,
     "metadata": {},
     "output_type": "execute_result"
    }
   ],
   "source": [
    "p_index = np.where(precision>0.7)\n",
    "p_precision = precision[p_index]\n",
    "p_recall = recall[p_index]\n",
    "sklearn.metrics.auc(p_recall,p_precision)"
   ]
  },
  {
   "cell_type": "code",
   "execution_count": 18,
   "metadata": {},
   "outputs": [
    {
     "data": {
      "text/plain": [
       "array([ 0.23969214,  0.23914239,  0.23914239,  0.23914239,  0.23914239,\n",
       "        0.23859263,  0.23804288,  0.23804288,  0.23804288,  0.23804288,\n",
       "        0.23804288,  0.23749313,  0.23694338,  0.23639362,  0.23584387,\n",
       "        0.23529412,  0.23474437,  0.23474437,  0.23474437,  0.23419461,\n",
       "        0.23364486,  0.23309511,  0.23309511,  0.23254535,  0.2319956 ,\n",
       "        0.23144585,  0.23144585,  0.2308961 ,  0.23034634,  0.22924684,\n",
       "        0.22924684,  0.22869709,  0.22869709,  0.22814733,  0.22759758,\n",
       "        0.22704783,  0.22704783,  0.22649808,  0.22594832,  0.22539857,\n",
       "        0.22539857,  0.22484882,  0.22429907,  0.22429907,  0.22374931,\n",
       "        0.22374931,  0.22374931,  0.22319956,  0.22319956,  0.22264981,\n",
       "        0.22210005,  0.22210005,  0.22210005,  0.22210005,  0.2215503 ,\n",
       "        0.2215503 ,  0.2215503 ,  0.22100055,  0.2204508 ,  0.2204508 ,\n",
       "        0.2204508 ,  0.21990104,  0.21990104,  0.21990104,  0.21990104,\n",
       "        0.21935129,  0.21880154,  0.21825179,  0.21825179,  0.21825179,\n",
       "        0.21770203,  0.21770203,  0.21715228,  0.21660253,  0.21660253,\n",
       "        0.21660253,  0.21605278,  0.21605278,  0.21550302,  0.21550302,\n",
       "        0.21550302,  0.21550302,  0.21495327,  0.21440352,  0.21440352,\n",
       "        0.21385377,  0.21330401,  0.21275426,  0.21275426,  0.21165476,\n",
       "        0.211105  ,  0.211105  ,  0.21055525,  0.21055525,  0.2100055 ,\n",
       "        0.20945574,  0.20890599,  0.20890599,  0.20835624,  0.20780649,\n",
       "        0.20725673,  0.20670698,  0.20615723,  0.20615723,  0.20560748,\n",
       "        0.20560748,  0.20560748,  0.20560748,  0.20505772,  0.20450797,\n",
       "        0.20395822,  0.20395822,  0.20395822,  0.20395822,  0.20340847,\n",
       "        0.20285871,  0.20285871,  0.20285871,  0.20230896,  0.20175921,\n",
       "        0.20175921,  0.20175921,  0.20120946,  0.20120946,  0.20120946,\n",
       "        0.2006597 ,  0.2006597 ,  0.2006597 ,  0.20010995,  0.20010995,\n",
       "        0.20010995,  0.1995602 ,  0.19901045,  0.19901045,  0.19846069,\n",
       "        0.19846069,  0.19846069,  0.19846069,  0.19791094,  0.19736119,\n",
       "        0.19736119,  0.19681143,  0.19626168,  0.19626168,  0.19571193,\n",
       "        0.19571193,  0.19516218,  0.19516218,  0.19461242,  0.19461242,\n",
       "        0.19406267,  0.19406267,  0.19351292,  0.19296317,  0.19241341,\n",
       "        0.19186366,  0.19131391,  0.19076416,  0.19076416,  0.19076416,\n",
       "        0.1902144 ,  0.18966465,  0.1891149 ,  0.1891149 ,  0.18856515,\n",
       "        0.18856515,  0.18801539,  0.18801539,  0.18746564,  0.18691589,\n",
       "        0.18636614,  0.18636614,  0.18636614,  0.18636614,  0.18636614,\n",
       "        0.18636614,  0.18636614,  0.18581638,  0.18526663,  0.18471688,\n",
       "        0.18416712,  0.18361737,  0.18306762,  0.18251787,  0.18251787,\n",
       "        0.18251787,  0.18196811,  0.18196811,  0.18196811,  0.18141836,\n",
       "        0.18141836,  0.18141836,  0.18141836,  0.18141836,  0.18141836,\n",
       "        0.18086861,  0.18031886,  0.1797691 ,  0.1797691 ,  0.1797691 ,\n",
       "        0.17921935,  0.17921935,  0.17921935,  0.1786696 ,  0.17811985,\n",
       "        0.17757009,  0.17757009,  0.17702034,  0.17647059,  0.17592084,\n",
       "        0.17537108,  0.17482133,  0.17427158,  0.17372183,  0.17317207,\n",
       "        0.17317207,  0.17317207,  0.17262232,  0.17207257,  0.17152281,\n",
       "        0.17097306,  0.17097306,  0.17097306,  0.17097306,  0.17042331,\n",
       "        0.16987356,  0.1693238 ,  0.16877405,  0.16877405,  0.1682243 ,\n",
       "        0.1682243 ,  0.16767455,  0.16712479,  0.16657504,  0.16657504,\n",
       "        0.16602529,  0.16547554,  0.16547554,  0.16492578,  0.16437603,\n",
       "        0.16382628,  0.16327653,  0.16272677,  0.16272677,  0.16217702,\n",
       "        0.16217702,  0.16162727,  0.16107752,  0.15997801,  0.15942826,\n",
       "        0.1588785 ,  0.1588785 ,  0.15832875,  0.157779  ,  0.157779  ,\n",
       "        0.15722925,  0.15667949,  0.15612974,  0.15557999,  0.15503024,\n",
       "        0.15448048,  0.15393073,  0.15338098,  0.15338098,  0.15283123,\n",
       "        0.15228147,  0.15228147,  0.15228147,  0.15173172,  0.15173172,\n",
       "        0.15118197,  0.15063222,  0.15063222,  0.15008246,  0.14953271,\n",
       "        0.14953271,  0.14898296,  0.14843321,  0.14788345,  0.1473337 ,\n",
       "        0.1473337 ,  0.14678395,  0.14623419,  0.14568444,  0.14513469,\n",
       "        0.14458494,  0.14458494,  0.14403518,  0.14348543,  0.14293568,\n",
       "        0.14293568,  0.14183617,  0.14128642,  0.14128642,  0.14073667,\n",
       "        0.14018692,  0.13963716,  0.13908741,  0.13853766,  0.13798791,\n",
       "        0.13743815,  0.1368884 ,  0.13633865,  0.13633865,  0.13578889,\n",
       "        0.13578889,  0.13523914,  0.13468939,  0.13413964,  0.13358988,\n",
       "        0.13304013,  0.13304013,  0.13304013,  0.13249038,  0.13194063,\n",
       "        0.13139087,  0.13084112,  0.13029137,  0.12974162,  0.12919186,\n",
       "        0.12919186,  0.12919186,  0.12919186,  0.12919186,  0.12864211,\n",
       "        0.12809236,  0.12754261,  0.12699285,  0.1264431 ,  0.1264431 ,\n",
       "        0.12589335,  0.1253436 ,  0.1253436 ,  0.12479384,  0.12424409,\n",
       "        0.12424409,  0.12369434,  0.12314458,  0.12314458,  0.12259483,\n",
       "        0.12259483,  0.12259483,  0.12204508,  0.12204508,  0.12204508,\n",
       "        0.12094557,  0.12094557,  0.12094557,  0.12094557,  0.12094557,\n",
       "        0.12039582,  0.11984607,  0.11874656,  0.11819681,  0.11764706,\n",
       "        0.11709731,  0.11654755,  0.1159978 ,  0.11544805,  0.1148983 ,\n",
       "        0.11434854,  0.11379879,  0.11269929,  0.11214953,  0.11159978,\n",
       "        0.11159978,  0.11159978,  0.11105003,  0.11105003,  0.11050027,\n",
       "        0.10995052,  0.10940077,  0.10885102,  0.10830126,  0.10775151,\n",
       "        0.10720176,  0.10665201,  0.10610225,  0.1055525 ,  0.10500275,\n",
       "        0.10500275,  0.10500275,  0.104453  ,  0.104453  ,  0.10390324,\n",
       "        0.10390324,  0.10390324,  0.10390324,  0.10280374,  0.10225399,\n",
       "        0.10170423,  0.10115448,  0.10060473,  0.10005498,  0.09950522,\n",
       "        0.09895547,  0.09840572,  0.09785596,  0.09730621,  0.09675646,\n",
       "        0.09675646,  0.09675646,  0.09620671,  0.09565695,  0.0951072 ,\n",
       "        0.0951072 ,  0.09455745,  0.09455745,  0.0940077 ,  0.0940077 ,\n",
       "        0.09345794,  0.09290819,  0.09235844,  0.09180869,  0.09125893,\n",
       "        0.09070918,  0.09015943,  0.08960968,  0.08905992,  0.08851017,\n",
       "        0.08851017,  0.08796042,  0.08741067,  0.08686091,  0.08631116,\n",
       "        0.08631116,  0.08576141,  0.08521165,  0.0846619 ,  0.08411215,\n",
       "        0.0835624 ,  0.08301264,  0.08246289,  0.08246289,  0.08191314,\n",
       "        0.08136339,  0.08081363,  0.08026388,  0.07971413,  0.07916438,\n",
       "        0.07861462,  0.07806487,  0.07751512,  0.07696537,  0.07641561,\n",
       "        0.07641561,  0.07586586,  0.07531611,  0.07476636,  0.0742166 ,\n",
       "        0.07366685,  0.0731171 ,  0.07201759,  0.07146784,  0.07146784,\n",
       "        0.07091809,  0.07091809,  0.07036833,  0.06981858,  0.06871908,\n",
       "        0.06816932,  0.06816932,  0.06761957,  0.06706982,  0.06652007,\n",
       "        0.06652007,  0.06597031,  0.06542056,  0.06487081,  0.06432106,\n",
       "        0.0637713 ,  0.06322155,  0.0626718 ,  0.06212205,  0.06157229,\n",
       "        0.06102254,  0.06047279,  0.05992303,  0.05937328,  0.05882353,\n",
       "        0.05827378,  0.05772402,  0.05717427,  0.05662452,  0.05607477,\n",
       "        0.05552501,  0.05497526,  0.05442551,  0.05387576,  0.053326  ,\n",
       "        0.05277625,  0.0522265 ,  0.05167675,  0.05112699,  0.05057724,\n",
       "        0.05002749,  0.04947774,  0.04892798,  0.04837823,  0.04782848,\n",
       "        0.04727872,  0.04672897,  0.04617922,  0.04562947,  0.04507971,\n",
       "        0.04452996,  0.04398021,  0.04343046,  0.0428807 ,  0.0417812 ,\n",
       "        0.04123145,  0.04013194,  0.03958219,  0.03903244,  0.03848268,\n",
       "        0.03793293,  0.03738318,  0.03683342,  0.03628367,  0.03573392,\n",
       "        0.03518417,  0.03463441,  0.03408466,  0.03353491,  0.0324354 ,\n",
       "        0.03188565,  0.0313359 ,  0.03078615,  0.03023639,  0.02968664,\n",
       "        0.02968664,  0.02968664,  0.02913689,  0.02803738,  0.02748763,\n",
       "        0.02693788,  0.02638813,  0.02583837,  0.02528862,  0.02473887,\n",
       "        0.02418911,  0.02418911,  0.02363936,  0.0219901 ,  0.02144035,\n",
       "        0.0208906 ,  0.02034085,  0.01979109,  0.01979109,  0.01979109,\n",
       "        0.01924134,  0.01869159,  0.01814184,  0.01759208,  0.01649258,\n",
       "        0.01594283,  0.01539307,  0.01484332,  0.01429357,  0.01374382,\n",
       "        0.01319406,  0.01099505,  0.01099505,  0.0104453 ,  0.00989555,\n",
       "        0.00934579,  0.00879604,  0.00824629,  0.00824629,  0.00769654,\n",
       "        0.00714678,  0.00659703,  0.00604728,  0.00549753,  0.00494777,\n",
       "        0.00439802,  0.00384827,  0.00329852,  0.00274876,  0.00219901,\n",
       "        0.00164926,  0.00109951,  0.00054975,  0.        ])"
      ]
     },
     "execution_count": 18,
     "metadata": {},
     "output_type": "execute_result"
    }
   ],
   "source": [
    "recall[np.where(precision>0.7)]"
   ]
  },
  {
   "cell_type": "code",
   "execution_count": 9,
   "metadata": {
    "collapsed": true
   },
   "outputs": [],
   "source": [
    "def partial_auc(x_train, x_test,y_train, y_test,clf,min_precision=0.7):\n",
    "    clf.fit(x_train,y_train)\n",
    "    y_proba_sick = clf.predict_proba(x_test)[:,1]\n",
    "    precision, recall, _ = sklearn.metrics.precision_recall_curve(y_test, y_proba_sick)\n",
    "    \n",
    "    p_index = np.where(precision>0.7)\n",
    "    p_precision = precision[p_index]\n",
    "    p_recall = recall[p_index]\n",
    "    sklearn.metrics.auc(p_recall,p_precision)\n",
    "    return sklearn.metrics.auc(recall,precision)\n",
    "\n",
    "def cross_validate_auc(x,y,clf,splits):\n",
    "    auc = []\n",
    "    for i,(train_index,test_index) in enumerate(splits):\n",
    "        x_train, x_test,y_train, y_test = x[train_index], x[test_index], y[train_index], y[test_index]\n",
    "        auc.append(pr_auc(x_train, x_test,y_train, y_test,clf))\n",
    "    return np.mean(auc),np.std(auc)\n",
    "\n",
    "def custom_GridSearchCV(x,y,dates,estimator,param_grid,cv=5):\n",
    "    # we generate all the possible instantiation parameter dictionnaries\n",
    "    items = sorted(param_grid.items())\n",
    "    keys, values = zip(*items)\n",
    "    \n",
    "    splits = distinct_date_split(x,y,dates,cv)\n",
    "    best = {'best_auc':0,'best_args':None}\n",
    "    best_auc = 0\n",
    "    best_args = None\n",
    "    \n",
    "    results = {}\n",
    "    \n",
    "    for v in itertools.product(*values):\n",
    "        kw_args = dict(zip(keys, v))\n",
    "        clf = estimator(kw_args)\n",
    "        print(kw_args)\n",
    "        mean_auc,std_auc = cross_validate_auc(x,y,clf,splits)\n",
    "        if(mean_auc > best['best_auc']):\n",
    "            best['best_auc'] = mean_auc\n",
    "            best['best_args'] = kw_args\n",
    "            \n",
    "        results[str(kw_args)] = ({'mean_auc':mean_auc,'std_auc':std_auc})\n",
    "    return {'results':results,'best':best}"
   ]
  },
  {
   "cell_type": "markdown",
   "metadata": {},
   "source": [
    "# Tuning Boosting parameters"
   ]
  },
  {
   "cell_type": "code",
   "execution_count": 10,
   "metadata": {},
   "outputs": [
    {
     "name": "stdout",
     "output_type": "stream",
     "text": [
      "{'learning_rate': 0.050000000000000003, 'n_estimators': 20}\n",
      "{'learning_rate': 0.050000000000000003, 'n_estimators': 28}\n",
      "{'learning_rate': 0.050000000000000003, 'n_estimators': 37}\n",
      "{'learning_rate': 0.050000000000000003, 'n_estimators': 46}\n",
      "{'learning_rate': 0.050000000000000003, 'n_estimators': 55}\n",
      "{'learning_rate': 0.050000000000000003, 'n_estimators': 64}\n",
      "{'learning_rate': 0.050000000000000003, 'n_estimators': 73}\n",
      "{'learning_rate': 0.050000000000000003, 'n_estimators': 82}\n",
      "{'learning_rate': 0.050000000000000003, 'n_estimators': 91}\n",
      "{'learning_rate': 0.050000000000000003, 'n_estimators': 100}\n",
      "{'learning_rate': 0.1125, 'n_estimators': 20}\n",
      "{'learning_rate': 0.1125, 'n_estimators': 28}\n",
      "{'learning_rate': 0.1125, 'n_estimators': 37}\n",
      "{'learning_rate': 0.1125, 'n_estimators': 46}\n",
      "{'learning_rate': 0.1125, 'n_estimators': 55}\n",
      "{'learning_rate': 0.1125, 'n_estimators': 64}\n",
      "{'learning_rate': 0.1125, 'n_estimators': 73}\n",
      "{'learning_rate': 0.1125, 'n_estimators': 82}\n",
      "{'learning_rate': 0.1125, 'n_estimators': 91}\n",
      "{'learning_rate': 0.1125, 'n_estimators': 100}\n",
      "{'learning_rate': 0.17499999999999999, 'n_estimators': 20}\n",
      "{'learning_rate': 0.17499999999999999, 'n_estimators': 28}\n",
      "{'learning_rate': 0.17499999999999999, 'n_estimators': 37}\n",
      "{'learning_rate': 0.17499999999999999, 'n_estimators': 46}\n",
      "{'learning_rate': 0.17499999999999999, 'n_estimators': 55}\n",
      "{'learning_rate': 0.17499999999999999, 'n_estimators': 64}\n",
      "{'learning_rate': 0.17499999999999999, 'n_estimators': 73}\n",
      "{'learning_rate': 0.17499999999999999, 'n_estimators': 82}\n",
      "{'learning_rate': 0.17499999999999999, 'n_estimators': 91}\n",
      "{'learning_rate': 0.17499999999999999, 'n_estimators': 100}\n",
      "{'learning_rate': 0.23749999999999999, 'n_estimators': 20}\n",
      "{'learning_rate': 0.23749999999999999, 'n_estimators': 28}\n",
      "{'learning_rate': 0.23749999999999999, 'n_estimators': 37}\n",
      "{'learning_rate': 0.23749999999999999, 'n_estimators': 46}\n",
      "{'learning_rate': 0.23749999999999999, 'n_estimators': 55}\n",
      "{'learning_rate': 0.23749999999999999, 'n_estimators': 64}\n",
      "{'learning_rate': 0.23749999999999999, 'n_estimators': 73}\n",
      "{'learning_rate': 0.23749999999999999, 'n_estimators': 82}\n",
      "{'learning_rate': 0.23749999999999999, 'n_estimators': 91}\n",
      "{'learning_rate': 0.23749999999999999, 'n_estimators': 100}\n",
      "{'learning_rate': 0.29999999999999999, 'n_estimators': 20}\n",
      "{'learning_rate': 0.29999999999999999, 'n_estimators': 28}\n",
      "{'learning_rate': 0.29999999999999999, 'n_estimators': 37}\n",
      "{'learning_rate': 0.29999999999999999, 'n_estimators': 46}\n",
      "{'learning_rate': 0.29999999999999999, 'n_estimators': 55}\n",
      "{'learning_rate': 0.29999999999999999, 'n_estimators': 64}\n",
      "{'learning_rate': 0.29999999999999999, 'n_estimators': 73}\n",
      "{'learning_rate': 0.29999999999999999, 'n_estimators': 82}\n",
      "{'learning_rate': 0.29999999999999999, 'n_estimators': 91}\n",
      "{'learning_rate': 0.29999999999999999, 'n_estimators': 100}\n"
     ]
    }
   ],
   "source": [
    "learning_rates = np.linspace(0.05,0.3,5)\n",
    "n_estimators = [int(x) for x in np.linspace(20,100,10)]\n",
    "params = {'learning_rate': learning_rates, 'n_estimators':n_estimators}\n",
    "\n",
    "estimator = lambda kw_args: make_pipeline(sklearn.preprocessing.Imputer(strategy='mean'),\n",
    "                                          preprocessing.StandardScaler(),\n",
    "                                          sklearn.ensemble.GradientBoostingClassifier(**kw_args))\n",
    "\n",
    "res = custom_GridSearchCV(x,y,dates,estimator,params,cv=5)"
   ]
  },
  {
   "cell_type": "code",
   "execution_count": 22,
   "metadata": {
    "collapsed": true
   },
   "outputs": [],
   "source": [
    "opt_learning_rate = res['best']['best_args']['learning_rate']\n",
    "opt_n_est = res['best']['best_args']['n_estimators']"
   ]
  },
  {
   "cell_type": "code",
   "execution_count": 18,
   "metadata": {},
   "outputs": [
    {
     "data": {
      "image/png": "[encoded data removed]",
      "text/plain": [
       "<matplotlib.figure.Figure at 0x10b1e7208>"
      ]
     },
     "metadata": {},
     "output_type": "display_data"
    }
   ],
   "source": [
    "# We look at the PR curve\n",
    "opt_learning_rate = res['best']['best_args']['learning_rate']\n",
    "opt_n_est = res['best']['best_args']['n_estimators']\n",
    "fig, ax = plt.subplots()\n",
    "evaluate_recall_for_precision(ax, estimator(res['best']['best_args']), x, y, dates,'',prec_thresh_list=[0.9,0.8,0.7])"
   ]
  },
  {
   "cell_type": "code",
   "execution_count": 19,
   "metadata": {},
   "outputs": [
    {
     "data": {
      "image/png": "[encoded data removed]",
      "text/plain": [
       "<matplotlib.figure.Figure at 0x10f7ee2b0>"
      ]
     },
     "metadata": {},
     "output_type": "display_data"
    }
   ],
   "source": [
    "# And the roc curve\n",
    "fig, ax = plt.subplots()\n",
    "train_i,test_i = distinct_date_split(x,y,dates)[0]\n",
    "x_train, x_test,y_train, y_test = x[train_i], x[test_i], y[train_i], y[test_i]\n",
    "clf = estimator(res['best']['best_args'])\n",
    "clf.fit(x_train,y_train)\n",
    "y_proba_sick = clf.predict_proba(x_test)[:,1]\n",
    "draw_roc(ax,y_test,y_proba_sick,'',0.2)\n",
    "fig.show()"
   ]
  },
  {
   "cell_type": "code",
   "execution_count": 20,
   "metadata": {},
   "outputs": [
    {
     "data": {
      "image/png": "[encoded data removed]",
      "text/plain": [
       "<matplotlib.figure.Figure at 0x10f72ecc0>"
      ]
     },
     "metadata": {},
     "output_type": "display_data"
    }
   ],
   "source": [
    "#and with balanced classes\n",
    "fig, ax = plt.subplots()\n",
    "x_b,y_b = get_balanced_classes(x_test,y_test)\n",
    "y_proba_sick = clf.predict_proba(x_b)[:,1]\n",
    "draw_roc(ax,y_b,y_proba_sick,'',0.2)\n",
    "fig.show()"
   ]
  },
  {
   "cell_type": "markdown",
   "metadata": {
    "collapsed": true
   },
   "source": [
    "# Tuning tree based parameters\n",
    "Following the advices given [here](https://www.analyticsvidhya.com/blog/2016/02/complete-guide-parameter-tuning-gradient-boosting-gbm-python/) we will use the previously determined optimal Boosting parameters to grid search for the tree specific parameters in the following order:\n",
    "1. Tune max_depth (typically between 2 and 10) and num_samples_split (typically ~0.5-1% of total values)\n",
    "2. Tune min_samples_leaf\n",
    "3. Tune max_features"
   ]
  },
  {
   "cell_type": "code",
   "execution_count": 27,
   "metadata": {
    "scrolled": true
   },
   "outputs": [
    {
     "name": "stdout",
     "output_type": "stream",
     "text": [
      "{'learning_rate': 0.050000000000000003, 'max_depth': 5, 'min_samples_split': 200, 'n_estimators': 100}\n",
      "{'learning_rate': 0.050000000000000003, 'max_depth': 5, 'min_samples_split': 400, 'n_estimators': 100}\n",
      "{'learning_rate': 0.050000000000000003, 'max_depth': 5, 'min_samples_split': 600, 'n_estimators': 100}\n",
      "{'learning_rate': 0.050000000000000003, 'max_depth': 5, 'min_samples_split': 800, 'n_estimators': 100}\n",
      "{'learning_rate': 0.050000000000000003, 'max_depth': 5, 'min_samples_split': 1000, 'n_estimators': 100}\n",
      "{'learning_rate': 0.050000000000000003, 'max_depth': 7, 'min_samples_split': 200, 'n_estimators': 100}\n",
      "{'learning_rate': 0.050000000000000003, 'max_depth': 7, 'min_samples_split': 400, 'n_estimators': 100}\n",
      "{'learning_rate': 0.050000000000000003, 'max_depth': 7, 'min_samples_split': 600, 'n_estimators': 100}\n",
      "{'learning_rate': 0.050000000000000003, 'max_depth': 7, 'min_samples_split': 800, 'n_estimators': 100}\n",
      "{'learning_rate': 0.050000000000000003, 'max_depth': 7, 'min_samples_split': 1000, 'n_estimators': 100}\n",
      "{'learning_rate': 0.050000000000000003, 'max_depth': 9, 'min_samples_split': 200, 'n_estimators': 100}\n",
      "{'learning_rate': 0.050000000000000003, 'max_depth': 9, 'min_samples_split': 400, 'n_estimators': 100}\n",
      "{'learning_rate': 0.050000000000000003, 'max_depth': 9, 'min_samples_split': 600, 'n_estimators': 100}\n",
      "{'learning_rate': 0.050000000000000003, 'max_depth': 9, 'min_samples_split': 800, 'n_estimators': 100}\n",
      "{'learning_rate': 0.050000000000000003, 'max_depth': 9, 'min_samples_split': 1000, 'n_estimators': 100}\n",
      "{'learning_rate': 0.050000000000000003, 'max_depth': 11, 'min_samples_split': 200, 'n_estimators': 100}\n",
      "{'learning_rate': 0.050000000000000003, 'max_depth': 11, 'min_samples_split': 400, 'n_estimators': 100}\n",
      "{'learning_rate': 0.050000000000000003, 'max_depth': 11, 'min_samples_split': 600, 'n_estimators': 100}\n",
      "{'learning_rate': 0.050000000000000003, 'max_depth': 11, 'min_samples_split': 800, 'n_estimators': 100}\n",
      "{'learning_rate': 0.050000000000000003, 'max_depth': 11, 'min_samples_split': 1000, 'n_estimators': 100}\n",
      "{'learning_rate': 0.050000000000000003, 'max_depth': 13, 'min_samples_split': 200, 'n_estimators': 100}\n",
      "{'learning_rate': 0.050000000000000003, 'max_depth': 13, 'min_samples_split': 400, 'n_estimators': 100}\n",
      "{'learning_rate': 0.050000000000000003, 'max_depth': 13, 'min_samples_split': 600, 'n_estimators': 100}\n",
      "{'learning_rate': 0.050000000000000003, 'max_depth': 13, 'min_samples_split': 800, 'n_estimators': 100}\n",
      "{'learning_rate': 0.050000000000000003, 'max_depth': 13, 'min_samples_split': 1000, 'n_estimators': 100}\n",
      "{'learning_rate': 0.050000000000000003, 'max_depth': 15, 'min_samples_split': 200, 'n_estimators': 100}\n",
      "{'learning_rate': 0.050000000000000003, 'max_depth': 15, 'min_samples_split': 400, 'n_estimators': 100}\n",
      "{'learning_rate': 0.050000000000000003, 'max_depth': 15, 'min_samples_split': 600, 'n_estimators': 100}\n",
      "{'learning_rate': 0.050000000000000003, 'max_depth': 15, 'min_samples_split': 800, 'n_estimators': 100}\n",
      "{'learning_rate': 0.050000000000000003, 'max_depth': 15, 'min_samples_split': 1000, 'n_estimators': 100}\n"
     ]
    }
   ],
   "source": [
    "params = {'learning_rate': [opt_learning_rate], 'n_estimators': [opt_n_est], \n",
    "             'max_depth':range(5,16,2), 'min_samples_split':range(200,1001,200)}\n",
    "\n",
    "estimator = lambda kw_args: make_pipeline(sklearn.preprocessing.Imputer(strategy='mean'),\n",
    "                                          preprocessing.StandardScaler(),\n",
    "                                          sklearn.ensemble.GradientBoostingClassifier(**kw_args))\n",
    "\n",
    "res = custom_GridSearchCV(x,y,dates,estimator,params,cv=5)"
   ]
  },
  {
   "cell_type": "code",
   "execution_count": 28,
   "metadata": {
    "scrolled": true
   },
   "outputs": [
    {
     "data": {
      "text/plain": [
       "{'best': {'best_args': {'learning_rate': 0.050000000000000003,\n",
       "   'max_depth': 11,\n",
       "   'min_samples_split': 600,\n",
       "   'n_estimators': 100},\n",
       "  'best_auc': 0.53159561841196967},\n",
       " 'results': {\"{'learning_rate': 0.050000000000000003, 'max_depth': 11, 'min_samples_split': 1000, 'n_estimators': 100}\": {'mean_auc': 0.52471148438300652,\n",
       "   'std_auc': 0.024027908482282843},\n",
       "  \"{'learning_rate': 0.050000000000000003, 'max_depth': 11, 'min_samples_split': 200, 'n_estimators': 100}\": {'mean_auc': 0.51914102295432563,\n",
       "   'std_auc': 0.023683004105381197},\n",
       "  \"{'learning_rate': 0.050000000000000003, 'max_depth': 11, 'min_samples_split': 400, 'n_estimators': 100}\": {'mean_auc': 0.52465197610858705,\n",
       "   'std_auc': 0.026613837060357599},\n",
       "  \"{'learning_rate': 0.050000000000000003, 'max_depth': 11, 'min_samples_split': 600, 'n_estimators': 100}\": {'mean_auc': 0.53159561841196967,\n",
       "   'std_auc': 0.025533301635958381},\n",
       "  \"{'learning_rate': 0.050000000000000003, 'max_depth': 11, 'min_samples_split': 800, 'n_estimators': 100}\": {'mean_auc': 0.52617425436709842,\n",
       "   'std_auc': 0.02466194208851577},\n",
       "  \"{'learning_rate': 0.050000000000000003, 'max_depth': 13, 'min_samples_split': 1000, 'n_estimators': 100}\": {'mean_auc': 0.52597871199197066,\n",
       "   'std_auc': 0.024454998738482656},\n",
       "  \"{'learning_rate': 0.050000000000000003, 'max_depth': 13, 'min_samples_split': 200, 'n_estimators': 100}\": {'mean_auc': 0.5236018972862253,\n",
       "   'std_auc': 0.022953388436984003},\n",
       "  \"{'learning_rate': 0.050000000000000003, 'max_depth': 13, 'min_samples_split': 400, 'n_estimators': 100}\": {'mean_auc': 0.52518926792458442,\n",
       "   'std_auc': 0.026541316392467609},\n",
       "  \"{'learning_rate': 0.050000000000000003, 'max_depth': 13, 'min_samples_split': 600, 'n_estimators': 100}\": {'mean_auc': 0.52748357745509711,\n",
       "   'std_auc': 0.025894583681467215},\n",
       "  \"{'learning_rate': 0.050000000000000003, 'max_depth': 13, 'min_samples_split': 800, 'n_estimators': 100}\": {'mean_auc': 0.52480416771917437,\n",
       "   'std_auc': 0.021880744039401434},\n",
       "  \"{'learning_rate': 0.050000000000000003, 'max_depth': 15, 'min_samples_split': 1000, 'n_estimators': 100}\": {'mean_auc': 0.52492064717389442,\n",
       "   'std_auc': 0.024491415194723778},\n",
       "  \"{'learning_rate': 0.050000000000000003, 'max_depth': 15, 'min_samples_split': 200, 'n_estimators': 100}\": {'mean_auc': 0.52025184932909085,\n",
       "   'std_auc': 0.025071890466653545},\n",
       "  \"{'learning_rate': 0.050000000000000003, 'max_depth': 15, 'min_samples_split': 400, 'n_estimators': 100}\": {'mean_auc': 0.52430099637092697,\n",
       "   'std_auc': 0.025938355291563187},\n",
       "  \"{'learning_rate': 0.050000000000000003, 'max_depth': 15, 'min_samples_split': 600, 'n_estimators': 100}\": {'mean_auc': 0.52939899021170667,\n",
       "   'std_auc': 0.024350109774253271},\n",
       "  \"{'learning_rate': 0.050000000000000003, 'max_depth': 15, 'min_samples_split': 800, 'n_estimators': 100}\": {'mean_auc': 0.52530983465613867,\n",
       "   'std_auc': 0.024847012664607558},\n",
       "  \"{'learning_rate': 0.050000000000000003, 'max_depth': 5, 'min_samples_split': 1000, 'n_estimators': 100}\": {'mean_auc': 0.5198524014800292,\n",
       "   'std_auc': 0.027630266587557847},\n",
       "  \"{'learning_rate': 0.050000000000000003, 'max_depth': 5, 'min_samples_split': 200, 'n_estimators': 100}\": {'mean_auc': 0.52561387236545098,\n",
       "   'std_auc': 0.028904832741285909},\n",
       "  \"{'learning_rate': 0.050000000000000003, 'max_depth': 5, 'min_samples_split': 400, 'n_estimators': 100}\": {'mean_auc': 0.52950194227623082,\n",
       "   'std_auc': 0.028592946936646348},\n",
       "  \"{'learning_rate': 0.050000000000000003, 'max_depth': 5, 'min_samples_split': 600, 'n_estimators': 100}\": {'mean_auc': 0.53064850131667318,\n",
       "   'std_auc': 0.028969926218925919},\n",
       "  \"{'learning_rate': 0.050000000000000003, 'max_depth': 5, 'min_samples_split': 800, 'n_estimators': 100}\": {'mean_auc': 0.52098937557981151,\n",
       "   'std_auc': 0.026424559453694124},\n",
       "  \"{'learning_rate': 0.050000000000000003, 'max_depth': 7, 'min_samples_split': 1000, 'n_estimators': 100}\": {'mean_auc': 0.5235809046253237,\n",
       "   'std_auc': 0.025077756342114409},\n",
       "  \"{'learning_rate': 0.050000000000000003, 'max_depth': 7, 'min_samples_split': 200, 'n_estimators': 100}\": {'mean_auc': 0.52495119703859194,\n",
       "   'std_auc': 0.025771583101187396},\n",
       "  \"{'learning_rate': 0.050000000000000003, 'max_depth': 7, 'min_samples_split': 400, 'n_estimators': 100}\": {'mean_auc': 0.52780498308919244,\n",
       "   'std_auc': 0.027210040266732939},\n",
       "  \"{'learning_rate': 0.050000000000000003, 'max_depth': 7, 'min_samples_split': 600, 'n_estimators': 100}\": {'mean_auc': 0.53081640604557145,\n",
       "   'std_auc': 0.026907794737999067},\n",
       "  \"{'learning_rate': 0.050000000000000003, 'max_depth': 7, 'min_samples_split': 800, 'n_estimators': 100}\": {'mean_auc': 0.52403595424885163,\n",
       "   'std_auc': 0.023267634490286748},\n",
       "  \"{'learning_rate': 0.050000000000000003, 'max_depth': 9, 'min_samples_split': 1000, 'n_estimators': 100}\": {'mean_auc': 0.52708778747068119,\n",
       "   'std_auc': 0.024451308518897236},\n",
       "  \"{'learning_rate': 0.050000000000000003, 'max_depth': 9, 'min_samples_split': 200, 'n_estimators': 100}\": {'mean_auc': 0.52054792831787489,\n",
       "   'std_auc': 0.025627015534264323},\n",
       "  \"{'learning_rate': 0.050000000000000003, 'max_depth': 9, 'min_samples_split': 400, 'n_estimators': 100}\": {'mean_auc': 0.52713359203207388,\n",
       "   'std_auc': 0.026064323782094306},\n",
       "  \"{'learning_rate': 0.050000000000000003, 'max_depth': 9, 'min_samples_split': 600, 'n_estimators': 100}\": {'mean_auc': 0.52945209955324768,\n",
       "   'std_auc': 0.026600035482915011},\n",
       "  \"{'learning_rate': 0.050000000000000003, 'max_depth': 9, 'min_samples_split': 800, 'n_estimators': 100}\": {'mean_auc': 0.52664608509428468,\n",
       "   'std_auc': 0.022624755759429592}}}"
      ]
     },
     "execution_count": 28,
     "metadata": {},
     "output_type": "execute_result"
    }
   ],
   "source": [
    "res"
   ]
  },
  {
   "cell_type": "code",
   "execution_count": 30,
   "metadata": {},
   "outputs": [
    {
     "data": {
      "image/png": "[encoded data removed]",
      "text/plain": [
       "<matplotlib.figure.Figure at 0x10f743390>"
      ]
     },
     "metadata": {},
     "output_type": "display_data"
    }
   ],
   "source": [
    "# We look at the PR curve\n",
    "opt_learning_rate = res['best']['best_args']['learning_rate']\n",
    "opt_n_est = res['best']['best_args']['n_estimators']\n",
    "fig, ax = plt.subplots()\n",
    "evaluate_recall_for_precision(ax, estimator(res['best']['best_args']), x, y, dates,'',prec_thresh_list=[0.9,0.8,0.7],cv=8)"
   ]
  },
  {
   "cell_type": "code",
   "execution_count": 5,
   "metadata": {
    "collapsed": true
   },
   "outputs": [],
   "source": [
    "def get_sick_label(x):\n",
    "    if(x in ['internet.noconnection.start','internet.interruption.start','internet.performance.start']):\n",
    "        return 1\n",
    "    else:\n",
    "        return 0\n",
    "\n",
    "y_modified = y_extracted.map(get_sick_label) "
   ]
  },
  {
   "cell_type": "code",
   "execution_count": 1,
   "metadata": {},
   "outputs": [
    {
     "ename": "NameError",
     "evalue": "name 'plt' is not defined",
     "output_type": "error",
     "traceback": [
      "\u001b[0;31m---------------------------------------------------------------------------\u001b[0m",
      "\u001b[0;31mNameError\u001b[0m                                 Traceback (most recent call last)",
      "\u001b[0;32m<ipython-input-1-a0f9f1434268>\u001b[0m in \u001b[0;36m<module>\u001b[0;34m()\u001b[0m\n\u001b[1;32m      6\u001b[0m    \u001b[0;34m'min_samples_split'\u001b[0m\u001b[0;34m:\u001b[0m \u001b[0;36m600\u001b[0m\u001b[0;34m,\u001b[0m\u001b[0;34m\u001b[0m\u001b[0m\n\u001b[1;32m      7\u001b[0m    'n_estimators': 100}\n\u001b[0;32m----> 8\u001b[0;31m \u001b[0mfig\u001b[0m\u001b[0;34m,\u001b[0m \u001b[0max\u001b[0m \u001b[0;34m=\u001b[0m \u001b[0mplt\u001b[0m\u001b[0;34m.\u001b[0m\u001b[0msubplots\u001b[0m\u001b[0;34m(\u001b[0m\u001b[0;34m)\u001b[0m\u001b[0;34m\u001b[0m\u001b[0m\n\u001b[0m\u001b[1;32m      9\u001b[0m \u001b[0mevaluate_recall_for_precision\u001b[0m\u001b[0;34m(\u001b[0m\u001b[0max\u001b[0m\u001b[0;34m,\u001b[0m \u001b[0mestimator\u001b[0m\u001b[0;34m(\u001b[0m\u001b[0mbest_args\u001b[0m\u001b[0;34m)\u001b[0m\u001b[0;34m,\u001b[0m \u001b[0mx\u001b[0m\u001b[0;34m,\u001b[0m \u001b[0my\u001b[0m\u001b[0;34m,\u001b[0m \u001b[0mdates\u001b[0m\u001b[0;34m,\u001b[0m\u001b[0;34m''\u001b[0m\u001b[0;34m,\u001b[0m\u001b[0mprec_thresh_list\u001b[0m\u001b[0;34m=\u001b[0m\u001b[0;34m[\u001b[0m\u001b[0;36m0.9\u001b[0m\u001b[0;34m,\u001b[0m\u001b[0;36m0.8\u001b[0m\u001b[0;34m,\u001b[0m\u001b[0;36m0.7\u001b[0m\u001b[0;34m]\u001b[0m\u001b[0;34m,\u001b[0m\u001b[0mcv\u001b[0m\u001b[0;34m=\u001b[0m\u001b[0;36m5\u001b[0m\u001b[0;34m)\u001b[0m\u001b[0;34m\u001b[0m\u001b[0m\n",
      "\u001b[0;31mNameError\u001b[0m: name 'plt' is not defined"
     ]
    }
   ],
   "source": [
    "estimator = lambda kw_args: make_pipeline(sklearn.preprocessing.Imputer(strategy='mean'),\n",
    "                                          preprocessing.StandardScaler(),\n",
    "                                          sklearn.ensemble.GradientBoostingClassifier(**kw_args))\n",
    "best_args = {'learning_rate': 0.050000000000000003,\n",
    "   'max_depth': 11,\n",
    "   'min_samples_split': 600,\n",
    "   'n_estimators': 100}\n",
    "fig, ax = plt.subplots()\n",
    "evaluate_recall_for_precision(ax, estimator(best_args), x, y, dates,'',prec_thresh_list=[0.9,0.8,0.7],cv=5)"
   ]
  },
  {
   "cell_type": "code",
   "execution_count": null,
   "metadata": {
    "collapsed": true
   },
   "outputs": [],
   "source": []
  },
  {
   "cell_type": "code",
   "execution_count": null,
   "metadata": {
    "collapsed": true
   },
   "outputs": [],
   "source": []
  }
 ],
 "metadata": {
  "kernelspec": {
   "display_name": "Python 3",
   "language": "python",
   "name": "python3"
  },
  "language_info": {
   "codemirror_mode": {
    "name": "ipython",
    "version": 3
   },
   "file_extension": ".py",
   "mimetype": "text/x-python",
   "name": "python",
   "nbconvert_exporter": "python",
   "pygments_lexer": "ipython3",
   "version": "3.6.3"
  },
  "toc": {
   "base_numbering": 1,
   "nav_menu": {},
   "number_sections": true,
   "sideBar": true,
   "skip_h1_title": false,
   "title_cell": "Table of Contents",
   "title_sidebar": "Contents",
   "toc_cell": true,
   "toc_position": {
    "height": "calc(100% - 180px)",
    "left": "10px",
    "top": "150px",
    "width": "192px"
   },
   "toc_section_display": true,
   "toc_window_display": true
  }
 },
 "nbformat": 4,
 "nbformat_minor": 2
}
